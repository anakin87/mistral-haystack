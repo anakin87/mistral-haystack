{
  "cells": [
    {
      "cell_type": "markdown",
      "metadata": {
        "id": "efz83OboW1lU"
      },
      "source": [
        "# Mistral + Haystack: build RAG pipelines that rock 🤘\n",
        "\n",
        "### Unofficial experiment in which I build a Retrieval Augmented Generation pipeline for Rock music, using the new powerful [Mistral 7B](https://mistral.ai/news/announcing-mistral-7b/) and [Haystack](https://github.com/deepset-ai/haystack) LLM orchestration framework.\n",
        "\n",
        "<a target=\"_blank\" href=\"https://colab.research.google.com/github/anakin87/mistral-haystack/blob/main/mistral_haystack.ipynb\">\n",
        "  <img src=\"https://colab.research.google.com/assets/colab-badge.svg\" width=\"200\" alt=\"Open In Colab\"/>\n",
        "</a>\n",
        "\n",
        "<img src=\"https://techcrunch.com/wp-content/uploads/2023/09/mistral-7b-v0.1.jpg\" width=\"300\" style=\"display:inline;\">&nbsp;&nbsp;&nbsp;&nbsp;&nbsp;&nbsp;<img src=\"https://img.freepik.com/premium-vector/electric-guitar-fire-hot-rock-music-guitar-flames-hard-rock-rock-roll-concert-festival-label-night-club-live-show-vector-logo-emblem_570429-23178.jpg?w=2000\" width=\"200\"><img src=\"https://haystack.deepset.ai/images/haystack-ogimage.png\" width=\"400\" style=\"display:inline;\">"
      ]
    },
    {
      "cell_type": "markdown",
      "metadata": {
        "id": "gvH-QyVGasOv"
      },
      "source": [
        "## Install Haystack"
      ]
    },
    {
      "cell_type": "code",
      "execution_count": 1,
      "metadata": {
        "id": "SWmrYElAayTl"
      },
      "outputs": [],
      "source": [
        "%%capture\n",
        "! pip install farm-haystack"
      ]
    },
    {
      "cell_type": "markdown",
      "metadata": {
        "id": "d5BUgeDfcLPI"
      },
      "source": [
        "## Load Mistral 7b in Haystack\n",
        "\n",
        "For simplicity, I am going to use the [Hugging Face Inference API](https://docs.haystack.deepset.ai/docs/prompt_node#using-hugging-face-inference-api), so we need a free Hugging Face Access Token (https://huggingface.co/settings/tokens).\n"
      ]
    },
    {
      "cell_type": "code",
      "execution_count": 2,
      "metadata": {
        "id": "pIWRabo7dEaI"
      },
      "outputs": [],
      "source": [
        "from haystack.nodes import PromptNode\n",
        "from getpass import getpass"
      ]
    },
    {
      "cell_type": "code",
      "execution_count": 3,
      "metadata": {
        "colab": {
          "base_uri": "https://localhost:8080/"
        },
        "id": "naBfUr87jDfU",
        "outputId": "c86aebfb-98ba-4a04-8a05-e13a1db95dee"
      },
      "outputs": [
        {
          "name": "stdout",
          "output_type": "stream",
          "text": [
            "Your Hugging Face Token··········\n"
          ]
        }
      ],
      "source": [
        "HF_TOKEN = getpass(\"Your Hugging Face Token\")"
      ]
    },
    {
      "cell_type": "code",
      "execution_count": null,
      "metadata": {
        "colab": {
          "base_uri": "https://localhost:8080/",
          "height": 145,
          "referenced_widgets": [
            "ea97c09211f7459aa7cbf34ec68cda77",
            "f0d2b5b4e5da466eaac5a4650a4aa30f",
            "9872a496067a4ee48bb803e1f5dc2cbb",
            "c4b602bf12df4abda1a8f621d756e5ea",
            "6442c4d6a72447af858842731a75e27f",
            "ecb97b51f26849028901d476781c53a0",
            "e176246733294872815f2d1e503d4d0d",
            "ff79406d43874d818b49f492fee87595",
            "339b0c9c22e74395b684e0ba93f5658b",
            "b08efbf37fd54dd585c267286f666aba",
            "e0ed7fe260d1465586e18b2c60016d67",
            "589f21ba3eb54eb8823c8f3323876670",
            "7bb443bf644e491db94ceac42c8844f7",
            "d0cdc10618ae4d4cb4c61f62f29566bd",
            "e60ee0a5e876495ebf6864be15fd59bd",
            "bda888e57bdd4b358f0d666c114d8d2f",
            "f81f2e7d046b4c52912b30a21249b962",
            "9447481a6c2148689931216249d5bfc4",
            "d730c7c9a18249a2b5933eca1adb9675",
            "6dbf17665d4f48bbbd2562be6fab10fa",
            "087a6f538c4541b1b6da08d131ed9bfe",
            "42f55497615142d698c0fb3daf1c6b98",
            "9421a6c8e8054b9f8317eccf4fd9e26c",
            "4adaf26353b94e33b37ac0e52818ca13",
            "847d548be7ae4040977e43f0d9be30e3",
            "3493a5dedef243f5af0c225b72e7df34",
            "a731601110e54c3f8fa46c151034c9de",
            "6bff3b028d7449e48a305074b6300b31",
            "1a7d15a872814ad7a47a2a884ac970a6",
            "ac67efe08ddb484083a81cfca165da3d",
            "5af5f0cc46654f2eb2a77db206a7a462",
            "82e478b79c214972a5d27d10cbac9b22",
            "4ae0d41573884414a8692cd5c75a3474",
            "2be0f352a26a46fd8e2130ec650554d9",
            "2f55140a2a08444da9d0da18322946df",
            "4f9fb9d434954dc0a97c6eb3230532de",
            "8b8ee5bfb45e4e03a7f3e2fd6b60bd2a",
            "5353aaf246ed41bd8a7ba272bce47b6a",
            "3cd63d6bae6742e180f556a199e77b23",
            "a3a1a84d45914aa59490152086434f5b",
            "c609818a12b8402aa2c2d5a7221f741f",
            "b7eb3c5fc0974954af5f490e606f643a",
            "e74d68254b7c47bba1ddb1ecc2cca3bb",
            "2ce766b3193c4f4ab69dfbb91d04ad3d"
          ]
        },
        "id": "mtvDMWJ6dKsM",
        "outputId": "0fc9342c-66cf-4d49-8d71-7707299aa2a3"
      },
      "outputs": [],
      "source": [
        "pn = PromptNode(model_name_or_path=\"mistralai/Mistral-7B-Instruct-v0.1\",  # instruct fine-tuned model: https://huggingface.co/mistralai/Mistral-7B-Instruct-v0.1\n",
        "                max_length=800,\n",
        "                api_key=HF_TOKEN)"
      ]
    },
    {
      "cell_type": "code",
      "execution_count": 5,
      "metadata": {
        "colab": {
          "base_uri": "https://localhost:8080/"
        },
        "id": "O_25rnJyhYM-",
        "outputId": "0215a6a1-e4d8-438c-d99d-4897c5491101"
      },
      "outputs": [
        {
          "name": "stdout",
          "output_type": "stream",
          "text": [
            " Oh, absolutely! Large Language Models are the epitome of rock and roll. They're like the ultimate supergroup, with members from all walks of life and backgrounds, coming together to create something truly magical.\n",
            "\n",
            "First of all, they're incredibly versatile. They can handle any topic or question you throw their way, from pop culture to politics to philosophy. They're like the ultimate jukebox, always ready to play whatever song you want to hear.\n",
            "\n",
            "And let's not forget about their ability to learn and adapt. They're constantly evolving, taking in new information and refining their responses. It's like they're always on the cutting edge of the music scene, always pushing the boundaries of what's possible.\n",
            "\n",
            "But perhaps the most impressive thing about Large Language Models is their sheer size. They're like a giant machine, churning out hit after hit, never stopping until they've exhausted every last bit of their creativity.\n",
            "\n",
            "So yeah, in a completely ironic way, Large Language Models rock! They're the ultimate rock and roll supergroup, always ready to take on any challenge and deliver the goods.\n"
          ]
        }
      ],
      "source": [
        "# Let's quickly try the model\n",
        "\n",
        "out=pn(\"<s>[INST] Explain in a ironic way why Large Language Model rock! [/INST]</s>\")\n",
        "\n",
        "print(out[0])"
      ]
    },
    {
      "cell_type": "markdown",
      "metadata": {
        "id": "pc9_DvoNlCQv"
      },
      "source": [
        "## Load and prepare data"
      ]
    },
    {
      "cell_type": "markdown",
      "metadata": {
        "id": "yv2BeRdWa8zY"
      },
      "source": [
        "I load the data (Wikipedia pages about Rock) from an old project of mine"
      ]
    },
    {
      "cell_type": "code",
      "execution_count": 6,
      "metadata": {
        "colab": {
          "base_uri": "https://localhost:8080/"
        },
        "id": "wGdu3ObCbx-B",
        "outputId": "2eb6ff20-d83c-4b52-8300-e1144595e4b3"
      },
      "outputs": [
        {
          "name": "stdout",
          "output_type": "stream",
          "text": [
            "Cloning into 'fact-checking-rocks'...\n",
            "remote: Enumerating objects: 319, done.\u001b[K\n",
            "remote: Counting objects: 100% (42/42), done.\u001b[K\n",
            "remote: Compressing objects: 100% (33/33), done.\u001b[K\n",
            "remote: Total 319 (delta 21), reused 22 (delta 9), pack-reused 277\u001b[K\n",
            "Receiving objects: 100% (319/319), 77.79 KiB | 553.00 KiB/s, done.\n",
            "Resolving deltas: 100% (186/186), done.\n",
            "Filtering content: 100% (4/4), 222.56 MiB | 44.02 MiB/s, done.\n"
          ]
        }
      ],
      "source": [
        "! git clone https://github.com/anakin87/fact-checking-rocks\n",
        "! tar -xzf /content/fact-checking-rocks/data/rock_wiki.tar.gz"
      ]
    },
    {
      "cell_type": "code",
      "execution_count": 7,
      "metadata": {
        "colab": {
          "base_uri": "https://localhost:8080/"
        },
        "id": "gaO7hy-wlbTL",
        "outputId": "1a1837f3-1117-45e2-e0b9-d15a4140a165"
      },
      "outputs": [
        {
          "name": "stdout",
          "output_type": "stream",
          "text": [
            "{\n",
            "    \"content\": \"Robert Anthony Plant  (born 20 August 1948) is an English singer and songwriter, best known as the lead singer and lyricist of the English rock band Led Zeppelin for all of its existence from 1968 until 1980, when the band broke up following the death of John Bonham, the band's drummer. He was inducted with the band into the Rock and Roll Hall of Fame in 1995. \\nPlant enjoyed great success with Led Zeppelin from the late 1960s to the end of the 1970s. He developed a compelling image as the charismatic rock-and-roll front man, similar to those of contemporaries such as Mick Jagger of the Rolling Stones, Roger Daltrey of the Who, Jim Morrison of the Doors, and Freddie Mercury of Queen. After Led Zeppelin dissolved in 1980,  Plant continued to perform and record continuously on a variety of solo and group projects.  His first well known post-Led Zeppelin project was The Honeydrippers, alongside former Led Zeppelin guitarist Jimmy Page, among others.  In 1988, he released the solo album Now and Zen, which spawned the hit singles \\\"Tall Cool One\\\" and \\\"Ship of Fools\\\".  In the 1990s, another reunion project named Page and Plant released two studio albums and a live album from an MTV Unplugged performance, as well as winning the Grammy Award for Best Hard Rock Performance in 1998 for \\\"Most High\\\".  In 2007, he began a collaboration with bluegrass artist Alison Krauss, releasing the album Raising Sand, which won the Grammy Award for Album of the Year in 2009 and produced the hit song \\\"Please Read the Letter\\\", which won the Grammy Award for Record of the Year the same year.  In 2010, he revived the Band of Joy (which shared its name with an early band he performed with in the 1960s), and in 2012 formed a new band, the Sensational Space Shifters, followed by a reunion with Alison Krauss in 2019.\\nIn 2008, Rolling Stone editors ranked him number 15 on their list of the 100 best singers of all time. In 2011, Rolling Stone readers ranked Plant the greatest of all lead singers. In 2006, Hit Parader magazine named Plant the \\\"Greatest Metal Vocalist of All Time\\\". In 2009, Plant was voted \\\"the greatest voice in rock\\\" in a poll conducted by Planet Rock.\\n\\n\\n== Biography ==\\n\\n\\n=== Early life and musical beginnings ===\\nRobert Anthony Plant was born on 20 August 1948, in the Black Country town of West Bromwich, Staffordshire, England, to Robert C. Plant, a qualified civil engineer who worked in the Royal Air Force during the Second World War, and Annie Celia Plant (n\\u00e9e Cain), a Romani woman. He grew up in the Hayley Green area of Halesowen, Worcestershire. Plant gained an interest in singing and rock and roll music at an early age; in an interview with Andrew Denton on the Denton talk show in 1994, Plant stated his desire, as a ten-year-old, to be like Elvis Presley:When I was a kid I used to hide behind the curtains at home at Christmas and I used to try and be Elvis. There was a certain ambience between the curtains and the French windows, there was a certain sound there for a ten-year-old. That was all the ambience I got at ten years old ... And I always wanted to be ... a bit similar to thatHe left King Edward VI Grammar School for Boys in Stourbridge in his mid-teens and developed a strong passion for the blues, mainly through his admiration for Willie Dixon, Robert Johnson and early renditions of songs in this genre.\\nI suppose I was quite interested in my stamp collection and Romani-British history. I was a little grammar school boy and I could hear this kind of calling through the airwaves.\\nHe abandoned training as a chartered accountant after only two weeks to attend college in an effort to gain more GCE passes and to become part of the English Midlands blues scene. \\\"I left home at 16\\\", he said, \\\"and I started my real education musically, moving from group to group, furthering my knowledge of the blues and of other music which had weight and was worth listening to\\\".Plant's early blues influences included Johnson, Bukka White, Skip James, Jerry Miller, and Sleepy John Estes. Plant had various jobs while pursuing his music career, one of which was working for the major British construction company Wimpey in Birmingham in 1967 laying tarmac on roads. He also worked at Woolworth's in Halesowen town for a short period of time. He cut three obscure singles on CBS Records and sang with a variety of bands, including the Crawling King Snakes, which brought him into contact with drummer John Bonham. They both went on to play in the Band of Joy, merging blues with newer psychedelic trends.\\n\\n\\n=== Led Zeppelin (1968\\u20131980) ===\\n\\n\\n==== Early years ====\\nIn 1968, guitarist Jimmy Page was in search of a lead singer for his new band and met Plant after being turned down by his first choice, Terry Reid, who referred him to a show at a teacher training college in Birmingham (where Plant was singing in a band named Hobbstweedle). In front of Page, Plant sang Jefferson Airplane's \\\"Somebody to Love\\\", leading Page to end his search. As recalled by Plant and Page:\\n\\nPlant:  I was appearing at this college when [manager Peter Grant] and Jimmy turned up and asked me if I'd like to join the Yardbirds. I knew the Yardbirds had done a lot of work in America \\u2013 which to me meant audiences who would want to know what I might have to offer \\u2013 so naturally I was very interested.\\nPage:  When I auditioned him and heard him sing, I immediately thought there must be something wrong with him personality-wise or that he had to be impossible to work with, because I just could not understand why, after he told me he'd been singing for a few years already, he hadn't become a big name yet. So I had him down to my place for a little while, just to sort of check him out, and we got along great. No problems.\\n\\nWith a shared passion for music, Plant and Page immediately developed a strong relationship, and began their writing collaboration with reworkings of earlier blues songs.\\n\\nInitially dubbed the \\\"New Yardbirds\\\" in 1968, the band soon came to be known as Led Zeppelin. The band's eponymous debut album hit the charts in 1969 and is widely credited as a catalyst for the heavy metal genre. Plant has commented that it is unfair for people to think of Zeppelin as heavy metal, as almost a third of their music was acoustic.In 1975, Plant and his wife Maureen (now divorced) were seriously injured in a car crash in Rhodes, Greece. This significantly affected the production of Led Zeppelin's seventh album Presence for a few months while he recovered, and forced the band to cancel the remaining tour dates for the year.\\nIn July 1977, his son Karac died at the age of five while Plant was engaged on Led Zeppelin's concert tour of the United States. Plant retreated to his home in the Midlands of England and, for months afterward, questioned his future.\\n\\n\\n==== Lyrics ====\\nPlant did not begin writing song lyrics with Led Zeppelin until the making of Led Zeppelin II, in 1969. According to Jimmy Page:\\n\\nThe most important thing about Led Zeppelin II is that up to that point I'd contributed lyrics. Robert hadn't written before, and it took a lot of ribbing to get him into writing, which was funny. And then, on the second LP, he wrote the words of Thank You. He said, \\\"I'd like to have a crack at this and write it for my wife.\\\"\\n\\nPlant's lyrics with Led Zeppelin were often mystical, philosophical and spiritual, alluding to events in classical and Norse mythology, such as \\\"Immigrant Song\\\", which refers to Valhalla and Viking conquests. However, the song \\\"No Quarter\\\" is often misunderstood to refer to the god Thor; the song actually refers to Mount Thor (which is named after the god). Another example is \\\"The Rain Song\\\".\\nPlant was also influenced by J. R. R. Tolkien, whose book series inspired lyrics in some early Led Zeppelin songs. Most notably, \\\"The Battle of Evermore\\\", \\\"Misty Mountain Hop\\\", \\\"No Quarter\\\", \\\"Ramble On\\\" and \\\"Over the Hills and Far Away\\\" contain verses referencing Tolkien's The Lord of the Rings and The Hobbit. Conversely, Plant sometimes used more straightforward blues-based lyrics dealing primarily with sexual innuendo, as in \\\"The Lemon Song\\\", \\\"Trampled Under Foot\\\", and \\\"Black Dog\\\".\\n\\nWelsh mythology also forms a basis of Plant's interest in mystical lyrics. He grew up close to the Welsh border and would often take summer trips to Snowdonia. Plant bought a Welsh sheep farm in 1973, and began taking Welsh lessons and looking into the mythology of the land (such as Black Book of Carmarthen, Book of Taliesin, etc.) Plant's first son, Karac, was named after the Welsh warrior Caratacus. The song \\\"Bron-Y-Aur Stomp\\\" is named after the 18th-century Welsh cottage Bron-Yr-Aur, owned by a friend of his father; it later inspired the song \\\"Bron-Yr-Aur\\\". The songs \\\"Misty Mountain Hop\\\", \\\"That's the Way\\\", and early dabblings in what would become \\\"Stairway to Heaven\\\" were written in Wales and lyrically reflect Plant's mystical view of the land. Critic Steve Turner suggests that Plant's early and continued experiences in Wales served as the foundation for his broader interest in the mythologies he revisits in his lyrics (including those myth systems of Tolkien and the Norse).Page's passion for diverse musical experiences influenced Plant to explore Africa, specifically Marrakesh in Morocco where he encountered Umm Kulthum:\\n\\nI was intrigued by the scales, initially, and obviously the vocal work. The way she sang, the way she could hold a note, you could feel the tension, you could tell that everybody, the whole orchestra, would hold a note until she wanted to change.\\nBoth he and Jimmy Page revisited these influences during their reunion album No Quarter: Jimmy Page and Robert Plant Unledded in 1994. During his solo career Plant tapped into these influences many times, most notably on the 2002 album Dreamland.\\nArguably one of Plant's most significant achievements with Led Zeppelin was his contribution to the track \\\"Stairway to Heaven\\\", an epic rock ballad featured on Led Zeppelin IV that drew influence from folk, blues, Celtic traditional music and hard rock among other genres. Most of the lyrics of the song were written spontaneously by Plant in 1970 at Headley Grange. While never released as a single, the song has topped polls as the greatest song of all time.Plant is also recognised for his lyrical improvisation in Led Zeppelin's live performances, often singing verses previously unheard on studio recordings. One of the most famous Led Zeppelin musical devices involves Plant's vocal mimicking of bandmate Jimmy Page's guitar effects. This can be heard in the songs \\\"How Many More Times\\\", \\\"Dazed and Confused\\\", \\\"The Lemon Song\\\", \\\"You Shook Me\\\", \\\"Nobody's Fault but Mine\\\" and \\\"Sick Again\\\".\\nHe is also known for his light-hearted, humorous and unusual on-stage banter. Plant often discusses the origin and background of the songs during his shows, and sometimes provides social comment as well. He frequently talks about American blues musicians as his inspiration, mentioning artists like Robert Johnson, Howlin' Wolf, Blind Willie Johnson and Willie Dixon at the Rock and Roll Hall of Fame induction ceremony and the 2007 Ahmet Erteg\\u00fcn Tribute Concert with Led Zeppelin.\\n\\n\\n==== Stage persona ====\\n\\nPlant enjoyed great success with Led Zeppelin throughout the 1970s and developed a compelling image as the charismatic rock-and-roll front man, similar to his contemporaries the Who's singer Roger Daltrey, Mick Jagger of the Rolling Stones, Freddie Mercury of Queen, and Jim Morrison of the Doors. With his mane of long blond hair and powerful, bare-chested appearance, Plant helped to create the \\\"god of rock and roll\\\" or \\\"rock god\\\" archetype. On stage, Plant was particularly active in live performances, often dancing, jumping, skipping, snapping his fingers, clapping, making emphatic gestures to emphasise a lyric or cymbal crash, throwing back his head, or placing his hands on his hips. As the 1970s progressed he, along with the other members of Led Zeppelin, became increasingly flamboyant on-stage, and wore more elaborate, colourful clothing and jewellery.\\nAccording to Classic Rock magazine, \\\"once he had a couple of US tours under his belt, 'Percy' Plant swiftly developed a staggering degree of bravado and swagger that irrefutably enhanced Led Zeppelin's rapidly burgeoning appeal.\\\" In 1994, during his \\\"Unledded\\\" tour with Jimmy Page, Plant himself reflected tongue-in-cheek upon his Led Zeppelin showmanship:\\n\\nI can't take my whole persona as a singer back then very seriously. It's not some great work of beauty and love to be a rock-and-roll singer. So I got a few moves from Elvis and one or two from Sonny Boy Williamson II and Howlin' Wolf and threw them all together.\\nOne of the oddest awards he received was the Rock Scene magazine \\\"Chest O Rama\\\". Readers of the magazine had to decide who had the best chest in rock, and Plant was the winner. When they contacted him about it, he replied: \\\"I'm really greatly honoured although it's hard for me to be eloquent on the subject of my chest.\\\"\\n\\n\\n=== Solo career (1981\\u2013present) ===\\n\\n\\n==== Early career and success (1981\\u20131993) ====\\nAfter Led Zeppelin disbanded in December 1980 (following the death of drummer John Bonham), Plant briefly considered abandoning music to pursue a career as a teacher in the Rudolf Steiner education system, going so far as to be accepted for teacher training. He nevertheless embarked on a successful solo career, helped by encouragement from Genesis drummer Phil Collins, who would go on to play with him. Plant's solo career began with the album Pictures at Eleven in 1982, followed by 1983's The Principle of Moments. Popular tracks from this period include \\\"Big Log\\\" (a Top 20 hit in 1983), \\\"In the Mood\\\" (1983), \\\"Little by Little\\\" (from 1985's Shaken 'n' Stirred), \\\"Far Post\\\" (the B-side of \\\"Burning Down One Side\\\"), which appeared on the soundtrack of the 1985 movie White Nights starring Gregory Hines and  Mikhail Baryshnikov, and popularised by airplay on album-oriented rock stations), \\\"Tall Cool One\\\" (a No. 25 hit from 1988's Now and Zen) and later \\\"I Believe\\\" (from 1993's Fate of Nations). This last track, like Led Zeppelin's \\\"All My Love\\\", was written for and dedicated to his late son, Karac.  Whilst Plant avoided performing Led Zeppelin songs through much of this period (although he would occasionally improvise his unique Zeppelin screams into his set), his tours in 1983 (with Phil Collins on drums) and in 1985 were very successful, often performing to sold-out arena-sized venues. In 1986 Plant performed at the Birmingham Heart Beat Charity Concert with other famous Midlands musicians. \\n\\nDuring the late 1980s and early 1990s Plant co-wrote three solo albums with keyboardist/songwriter Phil Johnstone. These were: Now and Zen in 1988, Manic Nirvana in 1990, and the 1993 Fate of Nations (which features Moya Brennan of Clannad and former Cutting Crew guitarist Kevin Scott MacMichael). Songs from this third album, plus a smattering of Led Zeppelin classics, made up the set-list for Plant's acclaimed sunset performance on the Main Stage at Glastonbury Festival, in 1993.  It was Johnstone who talked Plant into playing Led Zeppelin songs in his live shows, something Plant had always previously resisted, not wanting to be forever known as \\\"the former Led Zeppelin vocalist\\\".Although Led Zeppelin split in 1980, Plant occasionally collaborated with Jimmy Page on various projects through this period, including forming a short-lived all-star group with Page and Jeff Beck in 1984, called the Honeydrippers. They released an EP called The Honeydrippers: Volume One, and the band had a No. 3 hit with a remake of the Phil Phillips' tune \\\"Sea of Love\\\", plus a follow-up hit with a cover of Roy Brown's \\\"Rockin' at Midnight\\\". The pair again worked together in the studio on the 1988 Page solo effort Outrider, and in the same year Page contributed to Plant's album Now and Zen. Also, on 15 May 1988 Plant appeared with Page as a member of Led Zeppelin, at the Atlantic Records 40th Anniversary concert (where he also performed in his own right as a solo artist).  Plant's live collaborations with other well-known musicians continued when he took to the stage with Queen at Wembley Stadium, for 1992's \\\"The Freddie Mercury Tribute Concert\\\" for AIDS Awareness; where he sang Queen's \\\"Innuendo\\\" and \\\"Crazy Little Thing Called Love\\\", and Led Zeppelin's \\\"Kashmir\\\" and \\\"Thank You\\\".\\n\\n\\n==== Page and Plant (1994\\u20131998) ====\\nPage and Plant became a full-fledged performing act from 1994 through 1998, releasing the No Quarter: Jimmy Page and Robert Plant Unledded album in 1994 and following with an enormously successful tour in 1995, including a return to the Glastonbury limelight. Fourteen years of speculation from their fans and occasional sniping between the two former members ended when they reconvened their former musical partnership to produce No Quarter. Having long resisted offers from MTV to reform to do an Unplugged show, they finally accepted as part of a deal that also allowed them to visit Morocco to record new material. The album combines the results of both of these projects. The Led Zeppelin material features new arrangements and new instrumentation, including strings, Egyptian musicians and the vocals of British-Asian star Najma Akhtar.\\nPage and Plant recorded their only post-Zeppelin album of original material on the 1998 album Walking into Clarksdale, an effort that was unsuccessful commercially, leading Plant to return to his solo career after another world tour. A song from this album, \\\"Please Read the Letter\\\", was re-recorded by Plant with Alison Krauss, and was featured on their 2007 album which won the Grammy Award for Record of the Year.\\n\\n\\n==== Priory of Brion and reunion with Page (1999\\u20132001) ====\\nStarting in mid-1999, Plant performed until the end of 2000 at several small venues with his folk-rock band, named Priory of Brion. This band consisted of the original Band of Joy guitarist Kevyn Gammond alongside Andy Edwards (drums), Paul Timothy (keyboards), and Paul Wetton (bass). The Priory of Brion played around one hundred concerts across Europe at various small clubs and festivals. The band performed cover versions of songs that had influenced Plant in his formative years. Many of these cover versions would crop up later on his Dreamland album.In 1999, Plant contributed to the tribute album for Moby Grape co-founder Skip Spence, who was terminally ill. The album, More Oar: A Tribute to the Skip Spence Album (Birdman, 1999), with the album title referring to Spence's only solo album, Oar (Columbia, 1969), contained Plant's version of Spence's \\\"Little Hands\\\". Plant had been an admirer of Spence and Moby Grape since the release of Moby Grape's eponymous 1967 debut album.In 2001, Plant appeared on Afro Celt Sound System's album Volume 3: Further in Time. The song \\\"Life Begin Again\\\" features a duet with Welsh folksinger Julie Murphy, emphasising Plant's recurring interest in Welsh culture (Murphy would also tour in support of Plant).\\nIn the summer of 2001, Plant reunited with Page for both a cover of \\\"My Hole's Got a Bucket in It\\\"  for a Sun Records tribute album and an appearance at the Montreux Jazz Festival, the last time they worked outside of Led Zeppelin together.\\n\\n\\n==== Strange Sensation and further collaborations (2002\\u20132009) ====\\nIn 2002, with his then newly formed band Strange Sensation, Plant released a widely acclaimed collection of mostly blues and folk remakes, Dreamland. Contrasting with this lush collection of often relatively obscure remakes, the second album with Strange Sensation, Mighty ReArranger (2005), contains new, original songs. Both have received some of the most favourable reviews of Plant's solo career and four Grammy nominations, two in 2003 and two in 2006.\\n\\nAs a former member of Led Zeppelin, along with Page and John Paul Jones, Plant received the Grammy Lifetime Achievement Award in 2005 and the Polar Music Prize in 2006.From 2001 to 2007, Plant actively toured the US and Europe with Strange Sensation. His sets typically included recent, but not only, solo material and plenty of Led Zeppelin favourites, often with new and expanded arrangements. A DVD titled Soundstage: Robert Plant and Strange Sensation, featuring his Soundstage performance (filmed at the Soundstage studios in Chicago on 16 September 2005), was released in October 2006.\\nWith Strange Sensation's Justin Adams he appeared at the 2003 Festival au Desert held in Essakane in the North of Mali, captured in a French-language documentary film entitled Le Festival au D\\u00e9sert (2004).\\nOn 23 June 2006, Plant was the headliner (backed by Ian Hunter's band) at the Benefit For Arthur Lee concert at New York's Beacon Theatre, a show which raised money for Lee's medical expenses from his bout with leukaemia. Plant and band performed thirteen songs \\u2013 five by Arthur Lee & Love, five Led Zeppelin songs and three others, including a duet with Ian Hunter. At the show, Plant told the audience of his great admiration for Arthur Lee dating back to the mid-'60s. Lee died of his illness six weeks after the concert.\\nAn expansive box set of his solo work, Nine Lives, was released in November 2006, which expanded all of his albums with various B-sides, demos, and live cuts. It was accompanied by a DVD. All his solo works were re-released with these extra tracks individually.\\nIn 2007, Plant contributed two tracks to the Fats Domino tribute album Goin' Home: A Tribute to Fats Domino, \\\"It Keeps Rainin'\\\" with the Lil' Band o' Gold and \\\"Valley of Tears\\\" with the Soweto Gospel Choir.\\n\\nIn 2007 and 2008, Plant recorded and performed with bluegrass star Alison Krauss. A duet album, Raising Sand, was released on 23 October 2007 on Rounder Records. The album, recorded in Nashville and Los Angeles and produced by T Bone Burnett, includes performances of lesser-known material from R&B, blues, folk and country songwriters including Mel Tillis, Townes Van Zandt, Gene Clark, Tom Waits, Doc Watson, Little Milton and the Everly Brothers. In February 2008 the song \\\"Gone Gone Gone (Done Moved On)\\\" from Raising Sand won a Grammy for Best Pop Collaboration with Vocals at the 50th Grammy Awards. In February 2009 at the 51st Grammy Awards, Raising Sand won 5 Grammys, for Album of the Year, Record of the Year, Best Pop Collaboration with Vocals, Best Country Collaboration with Vocals, and Contemporary Folk/Americana Album. The album has been successful critically and commercially, and was certified platinum on 4 March 2008.\\n\\nPlant and Krauss began an extended tour of the US and Europe in April 2008, playing music from Raising Sand and other American roots music as well as reworked Led Zeppelin tunes. The album was nominated for the Mercury Prize in July 2008. Also in 2008, Plant performed with bluegrass musicians at the New Orleans Jazz & Heritage Festival and Bonnaroo Music & Arts Festival. He appeared as a surprise guest during Fairport Convention's set at the 2008 Cropredy Festival, performing Led Zeppelin's \\\"The Battle of Evermore\\\" with Kristina Donahue as a tribute to Sandy Denny.\\nPlant performed with Strange Sensation guitarist Justin Adams and the West African riti (a one-string violin) master Juldeh Camara for the finale of the three day World of Music, Arts and Dance Festival in Abu Dhabi. Approximately 50,000 attended each of the free Womad concerts, which took place on the Corniche public beach from 23\\u201325 April 2009.\\n\\n\\n==== Band of Joy (2010\\u20132011) ====\\n\\nIn July 2010, Plant embarked on a twelve-date summer tour in the United States with his newly formed group called Band of Joy (reprising the name of his first band in the 1960s). The group included singer Patty Griffin, singer-guitarist Buddy Miller, multi-instrumentalist and vocalist Darrell Scott, bassist-vocalist Byron House, and drummer-percussionist-vocalist Marco Giovino.\\nA one-off show in the United States on 12 September 2010 at the Bowery Ballroom in New York City, was followed by an eleven-date autumn 2010 tour in Europe and a North America tour in 2011.A new studio album called Band of Joy was released on 13 September 2010 on the Rounder Records label. The album was nominated for Best Americana Album in the 2011 Grammy Awards, and Plant's performance of \\\"Silver Rider\\\" on the album (a cover from the Low album The Great Destroyer) was nominated for Best Solo Rock Vocal Performance.\\nThe band played their final scheduled show together at the Big Chill Festival at Eastnor Castle Deer Park in Herefordshire on 7 August 2011. The show ended with Plant bidding his bandmates \\\"a fond farewell\\\".September 2011 - Plant played in Marfa, TX at El Cosmic Trans - Pecos Festival as part of a band called Crown Vic consisting of Patty Griffin, Dony Wynn, David Grissom, Glenn Fukunaga, Michael Ramos.On 30 September 2011, Plant and Band of Joy played in San Francisco's Golden Gate Park, as part of the 11th Hardly Strictly Bluegrass festival.Released in October 2011, Plant duetted with Alfie Boe on \\\"Song to the Siren\\\" for Alfie's sixth album, Alfie, which he also recorded himself on 2002's Dreamland.\\n\\n\\n==== Sensational Space Shifters (2012\\u20132018) ====\\nIt was first reported that Robert Plant's new band, the Sensational Space Shifters, would be debuting at 2012's WOMAD festival in Wiltshire, England. An intimate warm up gig was then announced in Gloucester on 8 May 2012 to a crowd of 400. Although it was initially reported that there were 10 members of the band, along with Plant the band consists of former Strange Sensation members, Cast guitarist Liam \\\"Skin\\\" Tyson, Justin Adams, Billy Fuller and John Baggott along with Dave Smith and Juldeh Camara. Patty Griffin was the special guest on the first few shows prior to her new album release and subsequent tour.\\n\\nOn 13 July 2012, the band released a download live album called Sensational Space Shifters (Live in London July '12). This album featured a mix of Strange Sensation and Led Zeppelin reinterpretations as well as covers and a spot by Patty Griffin. In addition to WOMAD and the Gloucester show, the Sensational Space Shifters were scheduled for the free Sunflower River Blues & Gospel Festival's 25th anniversary in Clarksdale, Mississippi on 10\\u201312 August 2012.Released in 2014, Lullaby and... The Ceaseless Roar is Plant's tenth solo album and the first studio recording with his band the Sensational Space Shifters. \\nOn 28 June 2014, Plant and the Sensational Space Shifters played at the Glastonbury Extravaganza. The band featured West African musician Juldeh Camara, guitarists Skin Tyson and Justin Adams, drummer Dave Smith, Massive Attack keyboardist John Baggott, and bassist Billy Fuller. On 7 August 2014, Plant announced an autumn 2014 7-date North American tour from 25 September (in Port Chester, NY) to 7 October 2014 (in Los Angeles, CA).To celebrate Record Store Day 2015 (Saturday 18 April), Plant released a special 10-inch live EP titled More Roar, which was limited to 10,000 copies. During a concert at Hammerstein Ballroom in New York City on 19 September 2015, Plant hinted at plans for a new album with the Sensational Space Shifters, stating, \\\"We'll go make another record and then we'll come see you guys even more.\\\"On April 25, 2015, Plant headlined a special event, \\\"Leadbelly at 125\\\" - a tribute to American Folk Legend Leadbelly at Kennedy Centre in conjunction with the Grammy Museum and performed with Alison Krauss, Viktor Krauss, Buddy Miller.Plant covered Elbow's track, \\\"Blanket of Night\\\", featured on the British Red Cross' compilation LP \\\"The Long Road\\\", released on March 4, 2016. The LP aimed to raise awareness of the \\\"struggles faced by refugees and asylum seekers at a time of increased global conflict and migration\\\". \\\"We have a worldwide international catastrophe,\\\" says Plant. \\\"Talking about it is one thing, doing something about it is another. The position we are in, it\\u2019s paramount we all do our best one way or another to help.\\\" Plant later confirmed that in October he would join artists including Emmylou Harris, Steve Earle, Patty Griffin, for select dates on the Lampedusa Concerts for Refugees tour. The tour across 11 North American cities was a series of acoustic concerts intended to raise awareness of the worldwide refugee crisis and funds to support educational programs for refugees.\\nPlant's eleventh solo album, Carry Fire, was released on 13 October 2017 and was the second studio album to be supported by his band the Sensational Space Shifters. In 2018, Plant received the AMA Lifetime Achievement Award at the UK Americana Honors & Awards. Plant headlined the Sunday night of Iceland's Secret Solstice Festival in Reykjav\\u00edk on 23 June 2019.John Blease joined the Sensational Space Shifters in June 2018 and replaced Dave Smith on drums. \\n\\n\\n==== Saving Grace and Alison Krauss reunion (2019\\u2013present) ====\\nOn March 7, 2019, Plant performed at the Third Annual LOVE ROCKS NYC, a benefit concert for God's Love We Deliver at the Beacon Theatre in NYC, hosted by Bill Murray, Martin Short and Chevy Chase amongst others, featuring an all-star line up including Sheryl Crow, Buddy Guy, Hozier, Billy F Gibbons, Jimmie Vaughan. The concert was presented by John Varvatos and Greg Williamson.Released via Plant's own Es Paranza label, a remastered version (with updated artwork) of Fate of Nations as part of 2019 Record Store Day with proceeds going to Greenpeace.In 2019, Plant formed a low-key acoustic band called Saving Grace and performed support slots in February 2019 for Fairport Convention and Seth Lakeman In March 2020, Saving Grace announced a US tour scheduled for May 2020 that was cancelled due to the Covid-19 pandemic.On 19 July 2021, Plant appeared onstage for his first post-pandemic show in Worthing, England, performing with his band Saving Grace for the first time since 2019. He went on to tour the UK with Saving Grace for their rescheduled shows.In 2021, Robert Plant and Alison Krauss released the 12-track studio album Raise the Roof, produced by T Bone Burnett, as a follow-up to Raising Sand. Accompanying the album's launch, Plant and Krauss performed a globally live-streamed set, broadcast from Nashville's Sound Emporium Studios.\\n\\n\\n=== Led Zeppelin-related projects and reunion rumours ===\\n\\nPlant performed with living members of Led Zeppelin both on 13 July 1985 for Live Aid (with Phil Collins and Tony Thompson on drums) and on 15 May 1988 for Atlantic Records 40th Anniversary. At the 1988 reunion, Jason Bonham, the son of Led Zeppelin's late drummer John Bonham, played drums. Both sets featured only a few songs, performed with minimal rehearsal. Plant was unhappy with both performances, saying that \\\"it was like sleeping with your ex-wife but not making love.\\\" At the 1990 Silver Clef Award Winners Concert at Knebworth, Plant was joined by Jimmy Page. Some of their set was released on the subsequent live album and video. In 1995, Led Zeppelin were inducted into the Rock and Roll Hall of Fame and Plant performed at the induction show with Jimmy Page, John Paul Jones, Jason Bonham, Neil Young, Steven Tyler and Joe Perry, performing spirited versions of \\\"Bring It On Home\\\", \\\"Honeybee\\\" and \\\"When the Levee Breaks\\\".\\nAfter years of reunion rumours, Led Zeppelin performed a full two-hour set on 10 December 2007 at the Ahmet Erteg\\u00fcn Tribute Concert, with Jason again filling in on drums. Despite enormous public demand, Plant declined a $200 million offer to tour with Led Zeppelin after the 2007 show. In interviews following the 2007 show, Plant left the door open to possible future performances with Led Zeppelin, saying that he enjoyed the reunion and felt that the show was strong musically. Although Page and Jones have expressed the strong desire to tour as Led Zeppelin, Plant has consistently opposed a full tour and has responded negatively to questions about another reunion. In a January 2008 interview, he stated that he does not want to \\\"tour like a bunch of bored old men following the Rolling Stones around.\\\" In a statement on his web site in late 2008, Plant stated, \\\"I will not be touring with Led Zeppelin or anyone else for the next two years. Anyone buying Led Zeppelin tickets will be buying bogus tickets.\\\"\\nIn February 2013, Plant hinted that he was open to a Led Zeppelin reunion in 2014, stating that he was  not the reason for Led Zeppelin's dormancy for the Capricorns (Jimmy Page and John Paul Jones) \\\"are quite contained in their own worlds and leave it to [him]\\\", adding that he was \\\"not the bad guy\\\" and that he had \\\"got nothing to do in 2014\\\".In a spring 2014 interview with the BBC about the then forthcoming reissue of Led Zeppelin's first three albums, Page said he was sure fans would be keen on another reunion show, but Plant later replied that \\\"the chances of it happening [were] zero\\\". Page then told The New York Times that he was \\\"fed up\\\" with Plant's refusal to play, stating: \\\"I was told last year that Plant said he is doing nothing in 2014, and what do the other two guys think? Well, he knows what the other guys think. Everyone would love to play more concerts for the band. He's just playing games, and I'm fed up with it, to be honest with you. I don't sing, so I can't do much about it\\\", adding: \\\"I definitely want to play live. Because, you know, I've still got a twinkle in my eye. I can still play. So, yeah, I'll just get myself into musical shape, just concentrating on the guitar.\\\"On 30 July 2014, NME revealed that Plant was \\\"slightly disappointed and baffled\\\" by Page in an ongoing Led Zeppelin dispute during which Page declared he was \\\"fed up\\\" with Plant delaying Led Zeppelin reunion plans. Instead, Plant offered Led Zeppelin's guitarist to write acoustically with him as he is interested in working with Page again but only in an unplugged way. Page responded:\\n\\nHe would have no intention whatsoever of doing it ... I've had enough of all this stuff, to be honest: 'Robert says this, Robert says that.' ... The only reality of it is that we did one concert. No matter how you dress it up, look at the situation. That's it.\\n\\n\\n== Personal life ==\\nPlant married Maureen Wilson on 9 November 1968. The couple had three children: daughter Carmen Jane (1968), (who later married Charlie Jones, Plant's bass player for solo tours); and sons Karac Pendragon (1972\\u20131977), and Logan Romero (1979). The couple divorced in August 1983. In 1977, during Led Zeppelin's US tour, his five-year-old son Karac died of a stomach illness. The song \\\"All My Love\\\", co-written with John Paul Jones, is a tribute to him.In 1991, Robert and Shirley Wilson (sister of ex-wife Maureen) had a son, Jesse Lee.Plant is interested in Welsh history and donated money to the creation of a bronze statue of the Welsh prince Owain Glynd\\u0175r, at Pennal Church, near Machynlleth, in Wales, unveiled in September 2004.  He is also understood to have contributed funds to a slate carving of Glynd\\u0175r's coat of arms at the Celtica museum in Machynlleth. Plant is part of a Glynd\\u0175r network, and attends meetings about him in Wales.In the New Year Honours List 2009, Plant was appointed a Commander of the Order of the British Empire \\\"for services to music\\\" and on 10 July 2009 invested by the Prince of Wales.On 14 August 2009 football club Wolverhampton Wanderers announced that Plant was to become the club's third vice-president. Plant officially received the honour before kick-off at the club's first match of the season against West Ham United. Plant was five years old when he first visited Molineux Stadium. He recalled in an interview with his local paper, the Express & Star, in August 2010: \\\"I was five when my dad took me down for the first time and Billy Wright waved at me. Honest, he did. And that was it \\u2013 I was hooked from that moment.\\\"In late 2010 BBC Two aired a documentary titled Robert Plant: By Myself. It features Robert Plant discussing his journey with Led Zeppelin and various projects since.In a July 2012 interview with The Independent newspaper, Plant stated he \\\"eloped and ran off to Texas\\\" with Band of Joy co-vocalist, American singer Patty Griffin. Plant's UK-based manager told E! News later that Plant was apparently being cheeky when he used the word \\\"eloped\\\" to describe his home life, for \\\"Robert has not married Patty Griffin,\\\" instead \\\"He was just referring to the fact that he's been residing in Texas\\\" with her. According to a July 2012 Ultimate Classic Rock article, Plant and Griffin had been dating for over a year, spending half of their time together in Austin, Texas. On 23 August 2014, The Independent indicated Plant had broken up with Griffin: \\\"\\\"Patty and I tried a sort of zig-zag across the Atlantic,\\\" Plant told the publication, \\\"but she didn't share my penchant for cider and she used to marvel at the Black Country character I became after four pints of Thatchers. My feelings are very much ones of sadness and regret.\\\"In early 2013, Plant contributed to a community buyout scheme to save the Bath music venue, the Bell Inn.He currently resides at Shatterford, near Bewdley in the Wyre Forest District of Worcestershire.In 2020, Plant donated money towards frontline medical supplies during the COVID-19 pandemic. The money went to the GoFundMe page of a small clothing manufacturer in Kidderminster, England that makes scrubs for local hospitals.\\n\\n\\n== Legacy ==\\nPlant has influenced the style of many of his contemporaries, including Geddy Lee, Ann Wilson, Sammy Hagar, and later rock vocalists such as Jeff Buckley and Jack White who imitated his performing style. Freddie Mercury of Queen, and Axl Rose of Guns N' Roses were influenced by Plant. Encyclop\\u00e6dia Britannica notes that \\\"Exaggerating the vocal style and expressive palette of blues singers such as Howlin' Wolf and Muddy Waters, Plant created the sound that has defined much hard rock and heavy metal singing: a high range, an abundance of distortion, loud volume, and emotional excess\\\". Plant received the Knebworth Silver Clef Award in 1990.In 2006, hard rock/heavy metal magazine Hit Parader named Plant as No. 1 on its list of the 100 Greatest Metal Vocalists of All Time, a list that included Rob Halford of Judas Priest (No. 2), Steven Tyler (No. 3), Freddie Mercury (No. 6), Geddy Lee (No. 13) and Paul Stanley (No. 18), all of whom were influenced by Plant. In 2008, Rolling Stone named Plant the 15th-greatest singer of all time on their list of 100 Greatest Singers of All Time. In 2009, he was voted the \\\"greatest voice in rock\\\" in a poll conducted by Planet Rock. He was included in the Q magazine's 2009 list of \\\"Artists of the Century\\\" and was ranked at number 8 in their list of \\\"100 Greatest Singers\\\" in 2007. In 2009, Plant also won the Outstanding Contribution to Music prize at the Q Awards. He was placed at No. 3 on SPIN's list of \\\"The 50 Greatest Rock Frontmen of All Time\\\".On 20 September 2010 National Public Radio (NPR) named Plant as one of the \\\"50 Great Voices\\\" in the world.In July 2018, Plant won the Silver Cleff Integro Outstanding Award, announced by music charity Nordoff Robbins.On 15 March 2022 Plant was the guest on BBC Radio 4's Desert Island Discs. His musical choices included \\\"I Ain't Superstitious\\\" by Howlin' Wolf and \\\"Ohio\\\" by Crosby, Stills, Nash & Young. His book choice was The Earliest English Poems, translated by Michael Alexander, his luxury item was a basket containing photos of homing pigeons and his favourite musical piece was \\\"Serenade\\\" by Mario Lanza.\\n\\n\\n== Tours ==\\n\\n\\n== Discography ==\\n\\nStudio albums\\n\\nPictures at Eleven (1982)\\nThe Principle of Moments (1983)\\nShaken 'n' Stirred (1985)\\nNow and Zen (1988)\\nManic Nirvana (1990)\\nFate of Nations (1993)\\nDreamland (2002)\\nMighty ReArranger (2005)\\nBand of Joy (2010)\\nLullaby and the Ceaseless Roar (2014)\\nCarry Fire (2017)Compilation albums\\n\\nSixty Six to Timbuktu (2003)\\nNine Lives (Box Set) (2006)\\nDigging Deep (2019)\\nDigging Deep: Subterranea (2020)Live albums\\n\\nSensational Space Shifters (Live in London July '12) (2012)Collaborative albums\\n\\nThe Honeydrippers: Volume One (1984) (with Jimmy Page and Jeff Beck)\\nNo Quarter: Jimmy Page and Robert Plant Unledded (1994) (live album with Jimmy Page)\\nWalking into Clarksdale (1998) (with Jimmy Page)\\nRaising Sand (2007) (with Alison Krauss)\\nRaise the Roof (2021) (with Alison Krauss)\\n\\n\\n== Notes ==\\n\\n\\n== References ==\\n\\n\\n== External links ==\\n\\nLed Zeppelin Official Site\\nOfficial Robert Plant Homepage\\nRobert Plant and Alison Krauss Official Site\\nRobert Plant at IMDb\",\n",
            "    \"meta\": {\n",
            "        \"name\": \"Robert Plant\",\n",
            "        \"url\": \"https://en.wikipedia.org/wiki/Robert_Plant\"\n",
            "    }\n",
            "}\n"
          ]
        }
      ],
      "source": [
        "# they are JSON file with a content field and some metadata\n",
        "\n",
        "! python -m json.tool /content/rock_wiki/100405.json"
      ]
    },
    {
      "cell_type": "markdown",
      "metadata": {
        "id": "nsH7sSlzlVIa"
      },
      "source": [
        "I load these files into Haystack Documents, then I chunk them using a [Preprocessor](https://docs.haystack.deepset.ai/docs/preprocessor)"
      ]
    },
    {
      "cell_type": "code",
      "execution_count": 8,
      "metadata": {
        "id": "Spblp58SW0nH"
      },
      "outputs": [],
      "source": [
        "import glob,json\n",
        "from haystack import Document\n",
        "from haystack.nodes import PreProcessor\n",
        "\n",
        "docs = []\n",
        "\n",
        "for json_file in glob.glob(\"/content/rock_wiki/*.json\"):\n",
        "    with open(json_file, \"r\") as fin:\n",
        "        doc_json = json.load(fin)\n",
        "    doc = Document.from_json(doc_json)\n",
        "\n",
        "    docs.append(doc)"
      ]
    },
    {
      "cell_type": "code",
      "execution_count": 9,
      "metadata": {
        "colab": {
          "base_uri": "https://localhost:8080/"
        },
        "id": "4gZh5nXkmY1S",
        "outputId": "99a0085f-2656-434a-f6d8-cb0c42160f55"
      },
      "outputs": [
        {
          "name": "stderr",
          "output_type": "stream",
          "text": [
            "[nltk_data] Downloading package punkt to /root/nltk_data...\n",
            "[nltk_data]   Unzipping tokenizers/punkt.zip.\n",
            "Preprocessing:   3%|▎         | 13/453 [00:00<00:07, 56.09docs/s]WARNING:haystack.nodes.preprocessor.preprocessor:We found one or more sentences whose word count is higher than the split length.\n",
            "Preprocessing: 100%|██████████| 453/453 [00:11<00:00, 38.18docs/s]\n"
          ]
        }
      ],
      "source": [
        "processor = PreProcessor(\n",
        "    clean_empty_lines=True,\n",
        "    clean_whitespace=True,\n",
        "    clean_header_footer=True,\n",
        "    split_by=\"word\",\n",
        "    split_length=200,\n",
        "    split_respect_sentence_boundary=True,\n",
        "    split_overlap=0,\n",
        "    language=\"en\",\n",
        ")\n",
        "preprocessed_docs = processor.process(docs)"
      ]
    },
    {
      "cell_type": "code",
      "execution_count": 10,
      "metadata": {
        "colab": {
          "base_uri": "https://localhost:8080/"
        },
        "id": "MnMZhmSqmzjU",
        "outputId": "be0f8e30-6731-4803-b89a-8a862bb61d15"
      },
      "outputs": [
        {
          "data": {
            "text/plain": [
              "<Document: {'content': 'Stephen Lawrence Winwood (born 12 May 1948) is an English professional musician and songwriter whose genres include blue-eyed soul, rhythm and blues, blues rock and pop rock. Though primarily a keyboard player and vocalist prominent for his distinctive, soulful high tenor voice, Winwood plays other instruments proficiently, including drums, mandolin, guitars, bass and saxophone.\\nWinwood was an integral member of three seminal musical ensembles of the 1960s and 1970s: the Spencer Davis Group, Traffic, and Blind Faith. Beginning in the 1980s, his solo career flourished and he had a number of hit singles, including \"While You See a Chance\" (1980) from the album Arc of a Diver and \"Valerie\" (1982) from Talking Back to the Night (\"Valerie\" became a hit when it was re-released with a remix from Winwood\\'s 1987 compilation album Chronicles). His 1986 album Back in the High Life marked his career zenith, with hit singles including \"Back in the High Life Again\", \"The Finer Things\" and the US Billboard Hot 100 number one hit \"Higher Love\". He found the top of the Hot 100 again with \"Roll With It\" (1988) from the album of the same name, with \"Holding On\" also charting highly the same year. ', 'content_type': 'text', 'score': None, 'meta': {'name': 'Steve Winwood', 'url': 'https://en.wikipedia.org/wiki/Steve_Winwood', '_split_id': 0}, 'id_hash_keys': ['content'], 'embedding': None, 'id': '5610f221bc8281320b8a2cfb71001d0e'}>"
            ]
          },
          "execution_count": 10,
          "metadata": {},
          "output_type": "execute_result"
        }
      ],
      "source": [
        "# a smaller chunked document\n",
        "\n",
        "preprocessed_docs[0]"
      ]
    },
    {
      "cell_type": "markdown",
      "metadata": {
        "id": "s6M7pttrnrQI"
      },
      "source": [
        "### Create an InMemoryDocumentStore and store data\n",
        "\n",
        "It's a very simple Document Store, ideal for rapid prototyping\n"
      ]
    },
    {
      "cell_type": "code",
      "execution_count": 11,
      "metadata": {
        "id": "40jmeS34m_bM"
      },
      "outputs": [],
      "source": [
        "from haystack.document_stores import InMemoryDocumentStore\n",
        "\n",
        "document_store = InMemoryDocumentStore(use_bm25=True)"
      ]
    },
    {
      "cell_type": "code",
      "execution_count": 12,
      "metadata": {
        "colab": {
          "base_uri": "https://localhost:8080/"
        },
        "id": "Z7tnuZBeoIqs",
        "outputId": "822aaf7b-9ad0-4014-b455-2bf71416617d"
      },
      "outputs": [
        {
          "name": "stderr",
          "output_type": "stream",
          "text": [
            "Updating BM25 representation...: 100%|██████████| 13236/13236 [00:01<00:00, 12001.50 docs/s]\n"
          ]
        }
      ],
      "source": [
        "document_store.write_documents(preprocessed_docs)"
      ]
    },
    {
      "cell_type": "markdown",
      "metadata": {
        "id": "KpCA8b2FoZE2"
      },
      "source": [
        "## Create a RAG Pipeline\n",
        "\n",
        "It will be composed by:\n",
        "- a [BM25 Retriever](https://docs.haystack.deepset.ai/docs/retriever#bm25-recommended) 🔎 to find relevant Documents\n",
        "- a [PromptNode](https://docs.haystack.deepset.ai/docs/prompt_node) 🤖 with our LLM to generate grounded answers"
      ]
    },
    {
      "cell_type": "code",
      "execution_count": 13,
      "metadata": {
        "id": "4UchlKzipUZf"
      },
      "outputs": [],
      "source": [
        "from haystack import Pipeline\n",
        "from haystack.nodes import BM25Retriever, PromptNode, PromptTemplate"
      ]
    },
    {
      "cell_type": "code",
      "execution_count": 14,
      "metadata": {
        "id": "Q9_m3jz1pewv"
      },
      "outputs": [],
      "source": [
        "retriever = BM25Retriever(document_store, top_k=4)"
      ]
    },
    {
      "cell_type": "code",
      "execution_count": 15,
      "metadata": {
        "id": "HKStelv4pr_f"
      },
      "outputs": [],
      "source": [
        "# a good Question Answering template, adapted for the instruction format\n",
        "# (https://huggingface.co/mistralai/Mistral-7B-Instruct-v0.1)\n",
        "\n",
        "qa_template = PromptTemplate(prompt=\n",
        "  \"\"\"<s>[INST] Using the information contained in the context, answer the question (using a maximum of two sentences).\n",
        "  If the answer cannot be deduced from the context, answer \\\"I don't know.\\\"\n",
        "  Context: {join(documents)};\n",
        "  Question: {query}\n",
        "  [/INST]</s>\"\"\")"
      ]
    },
    {
      "cell_type": "code",
      "execution_count": 16,
      "metadata": {
        "id": "V7M8_QmfqGO7"
      },
      "outputs": [],
      "source": [
        "prompt_node = PromptNode(model_name_or_path=\"mistralai/Mistral-7B-Instruct-v0.1\",\n",
        "                         api_key=HF_TOKEN,\n",
        "                         default_prompt_template=qa_template,\n",
        "                         max_length=5500,\n",
        "                         model_kwargs={\"model_max_length\":8000})"
      ]
    },
    {
      "cell_type": "code",
      "execution_count": 17,
      "metadata": {
        "id": "IzD5jw84oTVr"
      },
      "outputs": [],
      "source": [
        "rag_pipeline = Pipeline()\n",
        "rag_pipeline.add_node(component=retriever, name=\"retriever\", inputs=[\"Query\"])\n",
        "rag_pipeline.add_node(component=prompt_node, name=\"prompt_node\", inputs=[\"retriever\"])"
      ]
    },
    {
      "cell_type": "code",
      "execution_count": 18,
      "metadata": {
        "id": "RHzz1UQlt1M5"
      },
      "outputs": [],
      "source": [
        "from pprint import pprint\n",
        "print_answer = lambda out: pprint(out[\"results\"][0].strip())"
      ]
    },
    {
      "cell_type": "markdown",
      "metadata": {
        "id": "7VXJ2W7ju9c9"
      },
      "source": [
        "## Let's try our RAG Pipeline 🎸\n",
        "\n"
      ]
    },
    {
      "cell_type": "code",
      "execution_count": 19,
      "metadata": {
        "colab": {
          "base_uri": "https://localhost:8080/"
        },
        "id": "Ua-bETg0qknO",
        "outputId": "df9bab37-1e27-4d70-f18f-e7bd0aa33b5a"
      },
      "outputs": [
        {
          "name": "stdout",
          "output_type": "stream",
          "text": [
            "('Elvis Presley was a legendary American singer, actor, and musician, known '\n",
            " 'for his significant impact on the popularization of rock and roll. He was '\n",
            " 'born on January 8, 1935, in Tupelo, Mississippi, and had a close bond with '\n",
            " 'his mother. His father was of German, Scottish, and English origins, while '\n",
            " \"his mother was of Scots-Irish with some French Norman ancestry. Elvis's \"\n",
            " 'mother believed that her great-great-grandmother, Morning Dove White, was '\n",
            " \"Cherokee. Elvis's early years were marked by his love for music, which he \"\n",
            " 'discovered at an Assembly of God church.')\n"
          ]
        }
      ],
      "source": [
        "print_answer(rag_pipeline.run(query=\"Who was Elvis Presley?\"))\n"
      ]
    },
    {
      "cell_type": "code",
      "execution_count": 20,
      "metadata": {
        "colab": {
          "base_uri": "https://localhost:8080/"
        },
        "id": "6lq481NPqmVj",
        "outputId": "9948e90f-0b1c-44d2-d7dd-93c3a685fd1a"
      },
      "outputs": [
        {
          "name": "stdout",
          "output_type": "stream",
          "text": [
            "'The initial name of Sum 41 was Supernova.'\n"
          ]
        }
      ],
      "source": [
        "print_answer(rag_pipeline.run(query=\"What was the initial name of Sum 41?\"))"
      ]
    },
    {
      "cell_type": "code",
      "execution_count": 21,
      "metadata": {
        "colab": {
          "base_uri": "https://localhost:8080/"
        },
        "id": "m1vomcb7q5E8",
        "outputId": "354ead3f-80ca-4998-b141-ad94dcf0c8ab"
      },
      "outputs": [
        {
          "name": "stdout",
          "output_type": "stream",
          "text": [
            "('No, Ozzy Osbourne is not a member of Blink-182. He is a member of Black '\n",
            " 'Sabbath.')\n"
          ]
        }
      ],
      "source": [
        "print_answer(rag_pipeline.run(query=\"Is Ozzy Osbourne a member of Blink 182?\"))"
      ]
    },
    {
      "cell_type": "code",
      "execution_count": 22,
      "metadata": {
        "colab": {
          "base_uri": "https://localhost:8080/"
        },
        "id": "bHz1FeQgsYj6",
        "outputId": "827d5cee-ddb7-4465-a7df-f56801c0321f"
      },
      "outputs": [
        {
          "name": "stdout",
          "output_type": "stream",
          "text": [
            "(\"I don't know. The provided context does not mention anything about the Earth \"\n",
            " 'being flat.')\n",
            "(\"I don't know. The context does mention Louis Jordan, but it does not provide \"\n",
            " 'any information about a person named Michael Jordan.')\n"
          ]
        }
      ],
      "source": [
        "# let's try to fool the model\n",
        "\n",
        "print_answer(rag_pipeline.run(query=\"Is the earth flat?\"))\n",
        "\n",
        "print_answer(rag_pipeline.run(query=\"Who is Michael Jordan?\"))"
      ]
    },
    {
      "cell_type": "markdown",
      "metadata": {
        "id": "R7dzb2qN0vEi"
      },
      "source": [
        "## Try it for yourself!\n"
      ]
    },
    {
      "cell_type": "code",
      "execution_count": 23,
      "metadata": {
        "id": "afhwhAIivK1P"
      },
      "outputs": [],
      "source": [
        "questions=\"\"\"Who is Lady Gaga?\n",
        "What is Nirvana's first album?\n",
        "Where System of a down come from?\n",
        "Who wrote the song Stairway to heaven?\n",
        "Can you tell me the names of some hard rock bands?\n",
        "How many albums have Faith No More release?\n",
        "Why are Sex Pistols so popular, even though their career was short?\"\"\".split(\"\\n\")"
      ]
    },
    {
      "cell_type": "code",
      "execution_count": null,
      "metadata": {
        "id": "AACGqGFOw2AE"
      },
      "outputs": [],
      "source": [
        "for q in questions:\n",
        "  print(\"\\n\"+q)\n",
        "  print_answer(rag_pipeline.run(query=q))"
      ]
    },
    {
      "cell_type": "markdown",
      "metadata": {
        "id": "uCY4GhnY09oE"
      },
      "source": [
        "## More (generative) ideas with Haystack\n",
        "- [Customizing PromptNode for NLP Tasks](https://haystack.deepset.ai/tutorials/21_customizing_promptnode/)\n",
        "- [Creating a Generative QA Pipeline with PromptNode](https://haystack.deepset.ai/tutorials/22_pipeline_with_promptnode)\n",
        "- [Answering Multihop Questions with Agents](https://haystack.deepset.ai/tutorials/23_answering_multihop_questions_with_agents)\n",
        "- [Building a Conversational Chat App](https://haystack.deepset.ai/tutorials/24_building_chat_app/)\n",
        "- [Customizing Agent to Chat with Your Documents](https://haystack.deepset.ai/tutorials/25_customizing_agent)\n",
        "\n"
      ]
    }
  ],
  "metadata": {
    "colab": {
      "collapsed_sections": [
        "pc9_DvoNlCQv"
      ],
      "provenance": []
    },
    "kernelspec": {
      "display_name": "Python 3",
      "name": "python3"
    },
    "language_info": {
      "name": "python"
    },
    "widgets": {
      "application/vnd.jupyter.widget-state+json": {
        "087a6f538c4541b1b6da08d131ed9bfe": {
          "model_module": "@jupyter-widgets/base",
          "model_module_version": "1.2.0",
          "model_name": "LayoutModel",
          "state": {
            "_model_module": "@jupyter-widgets/base",
            "_model_module_version": "1.2.0",
            "_model_name": "LayoutModel",
            "_view_count": null,
            "_view_module": "@jupyter-widgets/base",
            "_view_module_version": "1.2.0",
            "_view_name": "LayoutView",
            "align_content": null,
            "align_items": null,
            "align_self": null,
            "border": null,
            "bottom": null,
            "display": null,
            "flex": null,
            "flex_flow": null,
            "grid_area": null,
            "grid_auto_columns": null,
            "grid_auto_flow": null,
            "grid_auto_rows": null,
            "grid_column": null,
            "grid_gap": null,
            "grid_row": null,
            "grid_template_areas": null,
            "grid_template_columns": null,
            "grid_template_rows": null,
            "height": null,
            "justify_content": null,
            "justify_items": null,
            "left": null,
            "margin": null,
            "max_height": null,
            "max_width": null,
            "min_height": null,
            "min_width": null,
            "object_fit": null,
            "object_position": null,
            "order": null,
            "overflow": null,
            "overflow_x": null,
            "overflow_y": null,
            "padding": null,
            "right": null,
            "top": null,
            "visibility": null,
            "width": null
          }
        },
        "1a7d15a872814ad7a47a2a884ac970a6": {
          "model_module": "@jupyter-widgets/controls",
          "model_module_version": "1.5.0",
          "model_name": "DescriptionStyleModel",
          "state": {
            "_model_module": "@jupyter-widgets/controls",
            "_model_module_version": "1.5.0",
            "_model_name": "DescriptionStyleModel",
            "_view_count": null,
            "_view_module": "@jupyter-widgets/base",
            "_view_module_version": "1.2.0",
            "_view_name": "StyleView",
            "description_width": ""
          }
        },
        "2be0f352a26a46fd8e2130ec650554d9": {
          "model_module": "@jupyter-widgets/controls",
          "model_module_version": "1.5.0",
          "model_name": "HBoxModel",
          "state": {
            "_dom_classes": [],
            "_model_module": "@jupyter-widgets/controls",
            "_model_module_version": "1.5.0",
            "_model_name": "HBoxModel",
            "_view_count": null,
            "_view_module": "@jupyter-widgets/controls",
            "_view_module_version": "1.5.0",
            "_view_name": "HBoxView",
            "box_style": "",
            "children": [
              "IPY_MODEL_2f55140a2a08444da9d0da18322946df",
              "IPY_MODEL_4f9fb9d434954dc0a97c6eb3230532de",
              "IPY_MODEL_8b8ee5bfb45e4e03a7f3e2fd6b60bd2a"
            ],
            "layout": "IPY_MODEL_5353aaf246ed41bd8a7ba272bce47b6a"
          }
        },
        "2ce766b3193c4f4ab69dfbb91d04ad3d": {
          "model_module": "@jupyter-widgets/controls",
          "model_module_version": "1.5.0",
          "model_name": "DescriptionStyleModel",
          "state": {
            "_model_module": "@jupyter-widgets/controls",
            "_model_module_version": "1.5.0",
            "_model_name": "DescriptionStyleModel",
            "_view_count": null,
            "_view_module": "@jupyter-widgets/base",
            "_view_module_version": "1.2.0",
            "_view_name": "StyleView",
            "description_width": ""
          }
        },
        "2f55140a2a08444da9d0da18322946df": {
          "model_module": "@jupyter-widgets/controls",
          "model_module_version": "1.5.0",
          "model_name": "HTMLModel",
          "state": {
            "_dom_classes": [],
            "_model_module": "@jupyter-widgets/controls",
            "_model_module_version": "1.5.0",
            "_model_name": "HTMLModel",
            "_view_count": null,
            "_view_module": "@jupyter-widgets/controls",
            "_view_module_version": "1.5.0",
            "_view_name": "HTMLView",
            "description": "",
            "description_tooltip": null,
            "layout": "IPY_MODEL_3cd63d6bae6742e180f556a199e77b23",
            "placeholder": "​",
            "style": "IPY_MODEL_a3a1a84d45914aa59490152086434f5b",
            "value": "Downloading (…)cial_tokens_map.json: 100%"
          }
        },
        "339b0c9c22e74395b684e0ba93f5658b": {
          "model_module": "@jupyter-widgets/controls",
          "model_module_version": "1.5.0",
          "model_name": "ProgressStyleModel",
          "state": {
            "_model_module": "@jupyter-widgets/controls",
            "_model_module_version": "1.5.0",
            "_model_name": "ProgressStyleModel",
            "_view_count": null,
            "_view_module": "@jupyter-widgets/base",
            "_view_module_version": "1.2.0",
            "_view_name": "StyleView",
            "bar_color": null,
            "description_width": ""
          }
        },
        "3493a5dedef243f5af0c225b72e7df34": {
          "model_module": "@jupyter-widgets/controls",
          "model_module_version": "1.5.0",
          "model_name": "HTMLModel",
          "state": {
            "_dom_classes": [],
            "_model_module": "@jupyter-widgets/controls",
            "_model_module_version": "1.5.0",
            "_model_name": "HTMLModel",
            "_view_count": null,
            "_view_module": "@jupyter-widgets/controls",
            "_view_module_version": "1.5.0",
            "_view_name": "HTMLView",
            "description": "",
            "description_tooltip": null,
            "layout": "IPY_MODEL_82e478b79c214972a5d27d10cbac9b22",
            "placeholder": "​",
            "style": "IPY_MODEL_4ae0d41573884414a8692cd5c75a3474",
            "value": " 1.80M/1.80M [00:00&lt;00:00, 1.92MB/s]"
          }
        },
        "3cd63d6bae6742e180f556a199e77b23": {
          "model_module": "@jupyter-widgets/base",
          "model_module_version": "1.2.0",
          "model_name": "LayoutModel",
          "state": {
            "_model_module": "@jupyter-widgets/base",
            "_model_module_version": "1.2.0",
            "_model_name": "LayoutModel",
            "_view_count": null,
            "_view_module": "@jupyter-widgets/base",
            "_view_module_version": "1.2.0",
            "_view_name": "LayoutView",
            "align_content": null,
            "align_items": null,
            "align_self": null,
            "border": null,
            "bottom": null,
            "display": null,
            "flex": null,
            "flex_flow": null,
            "grid_area": null,
            "grid_auto_columns": null,
            "grid_auto_flow": null,
            "grid_auto_rows": null,
            "grid_column": null,
            "grid_gap": null,
            "grid_row": null,
            "grid_template_areas": null,
            "grid_template_columns": null,
            "grid_template_rows": null,
            "height": null,
            "justify_content": null,
            "justify_items": null,
            "left": null,
            "margin": null,
            "max_height": null,
            "max_width": null,
            "min_height": null,
            "min_width": null,
            "object_fit": null,
            "object_position": null,
            "order": null,
            "overflow": null,
            "overflow_x": null,
            "overflow_y": null,
            "padding": null,
            "right": null,
            "top": null,
            "visibility": null,
            "width": null
          }
        },
        "42f55497615142d698c0fb3daf1c6b98": {
          "model_module": "@jupyter-widgets/controls",
          "model_module_version": "1.5.0",
          "model_name": "DescriptionStyleModel",
          "state": {
            "_model_module": "@jupyter-widgets/controls",
            "_model_module_version": "1.5.0",
            "_model_name": "DescriptionStyleModel",
            "_view_count": null,
            "_view_module": "@jupyter-widgets/base",
            "_view_module_version": "1.2.0",
            "_view_name": "StyleView",
            "description_width": ""
          }
        },
        "4adaf26353b94e33b37ac0e52818ca13": {
          "model_module": "@jupyter-widgets/controls",
          "model_module_version": "1.5.0",
          "model_name": "HTMLModel",
          "state": {
            "_dom_classes": [],
            "_model_module": "@jupyter-widgets/controls",
            "_model_module_version": "1.5.0",
            "_model_name": "HTMLModel",
            "_view_count": null,
            "_view_module": "@jupyter-widgets/controls",
            "_view_module_version": "1.5.0",
            "_view_name": "HTMLView",
            "description": "",
            "description_tooltip": null,
            "layout": "IPY_MODEL_6bff3b028d7449e48a305074b6300b31",
            "placeholder": "​",
            "style": "IPY_MODEL_1a7d15a872814ad7a47a2a884ac970a6",
            "value": "Downloading (…)/main/tokenizer.json: 100%"
          }
        },
        "4ae0d41573884414a8692cd5c75a3474": {
          "model_module": "@jupyter-widgets/controls",
          "model_module_version": "1.5.0",
          "model_name": "DescriptionStyleModel",
          "state": {
            "_model_module": "@jupyter-widgets/controls",
            "_model_module_version": "1.5.0",
            "_model_name": "DescriptionStyleModel",
            "_view_count": null,
            "_view_module": "@jupyter-widgets/base",
            "_view_module_version": "1.2.0",
            "_view_name": "StyleView",
            "description_width": ""
          }
        },
        "4f9fb9d434954dc0a97c6eb3230532de": {
          "model_module": "@jupyter-widgets/controls",
          "model_module_version": "1.5.0",
          "model_name": "FloatProgressModel",
          "state": {
            "_dom_classes": [],
            "_model_module": "@jupyter-widgets/controls",
            "_model_module_version": "1.5.0",
            "_model_name": "FloatProgressModel",
            "_view_count": null,
            "_view_module": "@jupyter-widgets/controls",
            "_view_module_version": "1.5.0",
            "_view_name": "ProgressView",
            "bar_style": "success",
            "description": "",
            "description_tooltip": null,
            "layout": "IPY_MODEL_c609818a12b8402aa2c2d5a7221f741f",
            "max": 72,
            "min": 0,
            "orientation": "horizontal",
            "style": "IPY_MODEL_b7eb3c5fc0974954af5f490e606f643a",
            "value": 72
          }
        },
        "5353aaf246ed41bd8a7ba272bce47b6a": {
          "model_module": "@jupyter-widgets/base",
          "model_module_version": "1.2.0",
          "model_name": "LayoutModel",
          "state": {
            "_model_module": "@jupyter-widgets/base",
            "_model_module_version": "1.2.0",
            "_model_name": "LayoutModel",
            "_view_count": null,
            "_view_module": "@jupyter-widgets/base",
            "_view_module_version": "1.2.0",
            "_view_name": "LayoutView",
            "align_content": null,
            "align_items": null,
            "align_self": null,
            "border": null,
            "bottom": null,
            "display": null,
            "flex": null,
            "flex_flow": null,
            "grid_area": null,
            "grid_auto_columns": null,
            "grid_auto_flow": null,
            "grid_auto_rows": null,
            "grid_column": null,
            "grid_gap": null,
            "grid_row": null,
            "grid_template_areas": null,
            "grid_template_columns": null,
            "grid_template_rows": null,
            "height": null,
            "justify_content": null,
            "justify_items": null,
            "left": null,
            "margin": null,
            "max_height": null,
            "max_width": null,
            "min_height": null,
            "min_width": null,
            "object_fit": null,
            "object_position": null,
            "order": null,
            "overflow": null,
            "overflow_x": null,
            "overflow_y": null,
            "padding": null,
            "right": null,
            "top": null,
            "visibility": null,
            "width": null
          }
        },
        "589f21ba3eb54eb8823c8f3323876670": {
          "model_module": "@jupyter-widgets/controls",
          "model_module_version": "1.5.0",
          "model_name": "HBoxModel",
          "state": {
            "_dom_classes": [],
            "_model_module": "@jupyter-widgets/controls",
            "_model_module_version": "1.5.0",
            "_model_name": "HBoxModel",
            "_view_count": null,
            "_view_module": "@jupyter-widgets/controls",
            "_view_module_version": "1.5.0",
            "_view_name": "HBoxView",
            "box_style": "",
            "children": [
              "IPY_MODEL_7bb443bf644e491db94ceac42c8844f7",
              "IPY_MODEL_d0cdc10618ae4d4cb4c61f62f29566bd",
              "IPY_MODEL_e60ee0a5e876495ebf6864be15fd59bd"
            ],
            "layout": "IPY_MODEL_bda888e57bdd4b358f0d666c114d8d2f"
          }
        },
        "5af5f0cc46654f2eb2a77db206a7a462": {
          "model_module": "@jupyter-widgets/controls",
          "model_module_version": "1.5.0",
          "model_name": "ProgressStyleModel",
          "state": {
            "_model_module": "@jupyter-widgets/controls",
            "_model_module_version": "1.5.0",
            "_model_name": "ProgressStyleModel",
            "_view_count": null,
            "_view_module": "@jupyter-widgets/base",
            "_view_module_version": "1.2.0",
            "_view_name": "StyleView",
            "bar_color": null,
            "description_width": ""
          }
        },
        "6442c4d6a72447af858842731a75e27f": {
          "model_module": "@jupyter-widgets/base",
          "model_module_version": "1.2.0",
          "model_name": "LayoutModel",
          "state": {
            "_model_module": "@jupyter-widgets/base",
            "_model_module_version": "1.2.0",
            "_model_name": "LayoutModel",
            "_view_count": null,
            "_view_module": "@jupyter-widgets/base",
            "_view_module_version": "1.2.0",
            "_view_name": "LayoutView",
            "align_content": null,
            "align_items": null,
            "align_self": null,
            "border": null,
            "bottom": null,
            "display": null,
            "flex": null,
            "flex_flow": null,
            "grid_area": null,
            "grid_auto_columns": null,
            "grid_auto_flow": null,
            "grid_auto_rows": null,
            "grid_column": null,
            "grid_gap": null,
            "grid_row": null,
            "grid_template_areas": null,
            "grid_template_columns": null,
            "grid_template_rows": null,
            "height": null,
            "justify_content": null,
            "justify_items": null,
            "left": null,
            "margin": null,
            "max_height": null,
            "max_width": null,
            "min_height": null,
            "min_width": null,
            "object_fit": null,
            "object_position": null,
            "order": null,
            "overflow": null,
            "overflow_x": null,
            "overflow_y": null,
            "padding": null,
            "right": null,
            "top": null,
            "visibility": null,
            "width": null
          }
        },
        "6bff3b028d7449e48a305074b6300b31": {
          "model_module": "@jupyter-widgets/base",
          "model_module_version": "1.2.0",
          "model_name": "LayoutModel",
          "state": {
            "_model_module": "@jupyter-widgets/base",
            "_model_module_version": "1.2.0",
            "_model_name": "LayoutModel",
            "_view_count": null,
            "_view_module": "@jupyter-widgets/base",
            "_view_module_version": "1.2.0",
            "_view_name": "LayoutView",
            "align_content": null,
            "align_items": null,
            "align_self": null,
            "border": null,
            "bottom": null,
            "display": null,
            "flex": null,
            "flex_flow": null,
            "grid_area": null,
            "grid_auto_columns": null,
            "grid_auto_flow": null,
            "grid_auto_rows": null,
            "grid_column": null,
            "grid_gap": null,
            "grid_row": null,
            "grid_template_areas": null,
            "grid_template_columns": null,
            "grid_template_rows": null,
            "height": null,
            "justify_content": null,
            "justify_items": null,
            "left": null,
            "margin": null,
            "max_height": null,
            "max_width": null,
            "min_height": null,
            "min_width": null,
            "object_fit": null,
            "object_position": null,
            "order": null,
            "overflow": null,
            "overflow_x": null,
            "overflow_y": null,
            "padding": null,
            "right": null,
            "top": null,
            "visibility": null,
            "width": null
          }
        },
        "6dbf17665d4f48bbbd2562be6fab10fa": {
          "model_module": "@jupyter-widgets/controls",
          "model_module_version": "1.5.0",
          "model_name": "ProgressStyleModel",
          "state": {
            "_model_module": "@jupyter-widgets/controls",
            "_model_module_version": "1.5.0",
            "_model_name": "ProgressStyleModel",
            "_view_count": null,
            "_view_module": "@jupyter-widgets/base",
            "_view_module_version": "1.2.0",
            "_view_name": "StyleView",
            "bar_color": null,
            "description_width": ""
          }
        },
        "7bb443bf644e491db94ceac42c8844f7": {
          "model_module": "@jupyter-widgets/controls",
          "model_module_version": "1.5.0",
          "model_name": "HTMLModel",
          "state": {
            "_dom_classes": [],
            "_model_module": "@jupyter-widgets/controls",
            "_model_module_version": "1.5.0",
            "_model_name": "HTMLModel",
            "_view_count": null,
            "_view_module": "@jupyter-widgets/controls",
            "_view_module_version": "1.5.0",
            "_view_name": "HTMLView",
            "description": "",
            "description_tooltip": null,
            "layout": "IPY_MODEL_f81f2e7d046b4c52912b30a21249b962",
            "placeholder": "​",
            "style": "IPY_MODEL_9447481a6c2148689931216249d5bfc4",
            "value": "Downloading tokenizer.model: 100%"
          }
        },
        "82e478b79c214972a5d27d10cbac9b22": {
          "model_module": "@jupyter-widgets/base",
          "model_module_version": "1.2.0",
          "model_name": "LayoutModel",
          "state": {
            "_model_module": "@jupyter-widgets/base",
            "_model_module_version": "1.2.0",
            "_model_name": "LayoutModel",
            "_view_count": null,
            "_view_module": "@jupyter-widgets/base",
            "_view_module_version": "1.2.0",
            "_view_name": "LayoutView",
            "align_content": null,
            "align_items": null,
            "align_self": null,
            "border": null,
            "bottom": null,
            "display": null,
            "flex": null,
            "flex_flow": null,
            "grid_area": null,
            "grid_auto_columns": null,
            "grid_auto_flow": null,
            "grid_auto_rows": null,
            "grid_column": null,
            "grid_gap": null,
            "grid_row": null,
            "grid_template_areas": null,
            "grid_template_columns": null,
            "grid_template_rows": null,
            "height": null,
            "justify_content": null,
            "justify_items": null,
            "left": null,
            "margin": null,
            "max_height": null,
            "max_width": null,
            "min_height": null,
            "min_width": null,
            "object_fit": null,
            "object_position": null,
            "order": null,
            "overflow": null,
            "overflow_x": null,
            "overflow_y": null,
            "padding": null,
            "right": null,
            "top": null,
            "visibility": null,
            "width": null
          }
        },
        "847d548be7ae4040977e43f0d9be30e3": {
          "model_module": "@jupyter-widgets/controls",
          "model_module_version": "1.5.0",
          "model_name": "FloatProgressModel",
          "state": {
            "_dom_classes": [],
            "_model_module": "@jupyter-widgets/controls",
            "_model_module_version": "1.5.0",
            "_model_name": "FloatProgressModel",
            "_view_count": null,
            "_view_module": "@jupyter-widgets/controls",
            "_view_module_version": "1.5.0",
            "_view_name": "ProgressView",
            "bar_style": "success",
            "description": "",
            "description_tooltip": null,
            "layout": "IPY_MODEL_ac67efe08ddb484083a81cfca165da3d",
            "max": 1795300,
            "min": 0,
            "orientation": "horizontal",
            "style": "IPY_MODEL_5af5f0cc46654f2eb2a77db206a7a462",
            "value": 1795300
          }
        },
        "8b8ee5bfb45e4e03a7f3e2fd6b60bd2a": {
          "model_module": "@jupyter-widgets/controls",
          "model_module_version": "1.5.0",
          "model_name": "HTMLModel",
          "state": {
            "_dom_classes": [],
            "_model_module": "@jupyter-widgets/controls",
            "_model_module_version": "1.5.0",
            "_model_name": "HTMLModel",
            "_view_count": null,
            "_view_module": "@jupyter-widgets/controls",
            "_view_module_version": "1.5.0",
            "_view_name": "HTMLView",
            "description": "",
            "description_tooltip": null,
            "layout": "IPY_MODEL_e74d68254b7c47bba1ddb1ecc2cca3bb",
            "placeholder": "​",
            "style": "IPY_MODEL_2ce766b3193c4f4ab69dfbb91d04ad3d",
            "value": " 72.0/72.0 [00:00&lt;00:00, 2.92kB/s]"
          }
        },
        "9421a6c8e8054b9f8317eccf4fd9e26c": {
          "model_module": "@jupyter-widgets/controls",
          "model_module_version": "1.5.0",
          "model_name": "HBoxModel",
          "state": {
            "_dom_classes": [],
            "_model_module": "@jupyter-widgets/controls",
            "_model_module_version": "1.5.0",
            "_model_name": "HBoxModel",
            "_view_count": null,
            "_view_module": "@jupyter-widgets/controls",
            "_view_module_version": "1.5.0",
            "_view_name": "HBoxView",
            "box_style": "",
            "children": [
              "IPY_MODEL_4adaf26353b94e33b37ac0e52818ca13",
              "IPY_MODEL_847d548be7ae4040977e43f0d9be30e3",
              "IPY_MODEL_3493a5dedef243f5af0c225b72e7df34"
            ],
            "layout": "IPY_MODEL_a731601110e54c3f8fa46c151034c9de"
          }
        },
        "9447481a6c2148689931216249d5bfc4": {
          "model_module": "@jupyter-widgets/controls",
          "model_module_version": "1.5.0",
          "model_name": "DescriptionStyleModel",
          "state": {
            "_model_module": "@jupyter-widgets/controls",
            "_model_module_version": "1.5.0",
            "_model_name": "DescriptionStyleModel",
            "_view_count": null,
            "_view_module": "@jupyter-widgets/base",
            "_view_module_version": "1.2.0",
            "_view_name": "StyleView",
            "description_width": ""
          }
        },
        "9872a496067a4ee48bb803e1f5dc2cbb": {
          "model_module": "@jupyter-widgets/controls",
          "model_module_version": "1.5.0",
          "model_name": "FloatProgressModel",
          "state": {
            "_dom_classes": [],
            "_model_module": "@jupyter-widgets/controls",
            "_model_module_version": "1.5.0",
            "_model_name": "FloatProgressModel",
            "_view_count": null,
            "_view_module": "@jupyter-widgets/controls",
            "_view_module_version": "1.5.0",
            "_view_name": "ProgressView",
            "bar_style": "success",
            "description": "",
            "description_tooltip": null,
            "layout": "IPY_MODEL_ff79406d43874d818b49f492fee87595",
            "max": 1463,
            "min": 0,
            "orientation": "horizontal",
            "style": "IPY_MODEL_339b0c9c22e74395b684e0ba93f5658b",
            "value": 1463
          }
        },
        "a3a1a84d45914aa59490152086434f5b": {
          "model_module": "@jupyter-widgets/controls",
          "model_module_version": "1.5.0",
          "model_name": "DescriptionStyleModel",
          "state": {
            "_model_module": "@jupyter-widgets/controls",
            "_model_module_version": "1.5.0",
            "_model_name": "DescriptionStyleModel",
            "_view_count": null,
            "_view_module": "@jupyter-widgets/base",
            "_view_module_version": "1.2.0",
            "_view_name": "StyleView",
            "description_width": ""
          }
        },
        "a731601110e54c3f8fa46c151034c9de": {
          "model_module": "@jupyter-widgets/base",
          "model_module_version": "1.2.0",
          "model_name": "LayoutModel",
          "state": {
            "_model_module": "@jupyter-widgets/base",
            "_model_module_version": "1.2.0",
            "_model_name": "LayoutModel",
            "_view_count": null,
            "_view_module": "@jupyter-widgets/base",
            "_view_module_version": "1.2.0",
            "_view_name": "LayoutView",
            "align_content": null,
            "align_items": null,
            "align_self": null,
            "border": null,
            "bottom": null,
            "display": null,
            "flex": null,
            "flex_flow": null,
            "grid_area": null,
            "grid_auto_columns": null,
            "grid_auto_flow": null,
            "grid_auto_rows": null,
            "grid_column": null,
            "grid_gap": null,
            "grid_row": null,
            "grid_template_areas": null,
            "grid_template_columns": null,
            "grid_template_rows": null,
            "height": null,
            "justify_content": null,
            "justify_items": null,
            "left": null,
            "margin": null,
            "max_height": null,
            "max_width": null,
            "min_height": null,
            "min_width": null,
            "object_fit": null,
            "object_position": null,
            "order": null,
            "overflow": null,
            "overflow_x": null,
            "overflow_y": null,
            "padding": null,
            "right": null,
            "top": null,
            "visibility": null,
            "width": null
          }
        },
        "ac67efe08ddb484083a81cfca165da3d": {
          "model_module": "@jupyter-widgets/base",
          "model_module_version": "1.2.0",
          "model_name": "LayoutModel",
          "state": {
            "_model_module": "@jupyter-widgets/base",
            "_model_module_version": "1.2.0",
            "_model_name": "LayoutModel",
            "_view_count": null,
            "_view_module": "@jupyter-widgets/base",
            "_view_module_version": "1.2.0",
            "_view_name": "LayoutView",
            "align_content": null,
            "align_items": null,
            "align_self": null,
            "border": null,
            "bottom": null,
            "display": null,
            "flex": null,
            "flex_flow": null,
            "grid_area": null,
            "grid_auto_columns": null,
            "grid_auto_flow": null,
            "grid_auto_rows": null,
            "grid_column": null,
            "grid_gap": null,
            "grid_row": null,
            "grid_template_areas": null,
            "grid_template_columns": null,
            "grid_template_rows": null,
            "height": null,
            "justify_content": null,
            "justify_items": null,
            "left": null,
            "margin": null,
            "max_height": null,
            "max_width": null,
            "min_height": null,
            "min_width": null,
            "object_fit": null,
            "object_position": null,
            "order": null,
            "overflow": null,
            "overflow_x": null,
            "overflow_y": null,
            "padding": null,
            "right": null,
            "top": null,
            "visibility": null,
            "width": null
          }
        },
        "b08efbf37fd54dd585c267286f666aba": {
          "model_module": "@jupyter-widgets/base",
          "model_module_version": "1.2.0",
          "model_name": "LayoutModel",
          "state": {
            "_model_module": "@jupyter-widgets/base",
            "_model_module_version": "1.2.0",
            "_model_name": "LayoutModel",
            "_view_count": null,
            "_view_module": "@jupyter-widgets/base",
            "_view_module_version": "1.2.0",
            "_view_name": "LayoutView",
            "align_content": null,
            "align_items": null,
            "align_self": null,
            "border": null,
            "bottom": null,
            "display": null,
            "flex": null,
            "flex_flow": null,
            "grid_area": null,
            "grid_auto_columns": null,
            "grid_auto_flow": null,
            "grid_auto_rows": null,
            "grid_column": null,
            "grid_gap": null,
            "grid_row": null,
            "grid_template_areas": null,
            "grid_template_columns": null,
            "grid_template_rows": null,
            "height": null,
            "justify_content": null,
            "justify_items": null,
            "left": null,
            "margin": null,
            "max_height": null,
            "max_width": null,
            "min_height": null,
            "min_width": null,
            "object_fit": null,
            "object_position": null,
            "order": null,
            "overflow": null,
            "overflow_x": null,
            "overflow_y": null,
            "padding": null,
            "right": null,
            "top": null,
            "visibility": null,
            "width": null
          }
        },
        "b7eb3c5fc0974954af5f490e606f643a": {
          "model_module": "@jupyter-widgets/controls",
          "model_module_version": "1.5.0",
          "model_name": "ProgressStyleModel",
          "state": {
            "_model_module": "@jupyter-widgets/controls",
            "_model_module_version": "1.5.0",
            "_model_name": "ProgressStyleModel",
            "_view_count": null,
            "_view_module": "@jupyter-widgets/base",
            "_view_module_version": "1.2.0",
            "_view_name": "StyleView",
            "bar_color": null,
            "description_width": ""
          }
        },
        "bda888e57bdd4b358f0d666c114d8d2f": {
          "model_module": "@jupyter-widgets/base",
          "model_module_version": "1.2.0",
          "model_name": "LayoutModel",
          "state": {
            "_model_module": "@jupyter-widgets/base",
            "_model_module_version": "1.2.0",
            "_model_name": "LayoutModel",
            "_view_count": null,
            "_view_module": "@jupyter-widgets/base",
            "_view_module_version": "1.2.0",
            "_view_name": "LayoutView",
            "align_content": null,
            "align_items": null,
            "align_self": null,
            "border": null,
            "bottom": null,
            "display": null,
            "flex": null,
            "flex_flow": null,
            "grid_area": null,
            "grid_auto_columns": null,
            "grid_auto_flow": null,
            "grid_auto_rows": null,
            "grid_column": null,
            "grid_gap": null,
            "grid_row": null,
            "grid_template_areas": null,
            "grid_template_columns": null,
            "grid_template_rows": null,
            "height": null,
            "justify_content": null,
            "justify_items": null,
            "left": null,
            "margin": null,
            "max_height": null,
            "max_width": null,
            "min_height": null,
            "min_width": null,
            "object_fit": null,
            "object_position": null,
            "order": null,
            "overflow": null,
            "overflow_x": null,
            "overflow_y": null,
            "padding": null,
            "right": null,
            "top": null,
            "visibility": null,
            "width": null
          }
        },
        "c4b602bf12df4abda1a8f621d756e5ea": {
          "model_module": "@jupyter-widgets/controls",
          "model_module_version": "1.5.0",
          "model_name": "HTMLModel",
          "state": {
            "_dom_classes": [],
            "_model_module": "@jupyter-widgets/controls",
            "_model_module_version": "1.5.0",
            "_model_name": "HTMLModel",
            "_view_count": null,
            "_view_module": "@jupyter-widgets/controls",
            "_view_module_version": "1.5.0",
            "_view_name": "HTMLView",
            "description": "",
            "description_tooltip": null,
            "layout": "IPY_MODEL_b08efbf37fd54dd585c267286f666aba",
            "placeholder": "​",
            "style": "IPY_MODEL_e0ed7fe260d1465586e18b2c60016d67",
            "value": " 1.46k/1.46k [00:00&lt;00:00, 57.9kB/s]"
          }
        },
        "c609818a12b8402aa2c2d5a7221f741f": {
          "model_module": "@jupyter-widgets/base",
          "model_module_version": "1.2.0",
          "model_name": "LayoutModel",
          "state": {
            "_model_module": "@jupyter-widgets/base",
            "_model_module_version": "1.2.0",
            "_model_name": "LayoutModel",
            "_view_count": null,
            "_view_module": "@jupyter-widgets/base",
            "_view_module_version": "1.2.0",
            "_view_name": "LayoutView",
            "align_content": null,
            "align_items": null,
            "align_self": null,
            "border": null,
            "bottom": null,
            "display": null,
            "flex": null,
            "flex_flow": null,
            "grid_area": null,
            "grid_auto_columns": null,
            "grid_auto_flow": null,
            "grid_auto_rows": null,
            "grid_column": null,
            "grid_gap": null,
            "grid_row": null,
            "grid_template_areas": null,
            "grid_template_columns": null,
            "grid_template_rows": null,
            "height": null,
            "justify_content": null,
            "justify_items": null,
            "left": null,
            "margin": null,
            "max_height": null,
            "max_width": null,
            "min_height": null,
            "min_width": null,
            "object_fit": null,
            "object_position": null,
            "order": null,
            "overflow": null,
            "overflow_x": null,
            "overflow_y": null,
            "padding": null,
            "right": null,
            "top": null,
            "visibility": null,
            "width": null
          }
        },
        "d0cdc10618ae4d4cb4c61f62f29566bd": {
          "model_module": "@jupyter-widgets/controls",
          "model_module_version": "1.5.0",
          "model_name": "FloatProgressModel",
          "state": {
            "_dom_classes": [],
            "_model_module": "@jupyter-widgets/controls",
            "_model_module_version": "1.5.0",
            "_model_name": "FloatProgressModel",
            "_view_count": null,
            "_view_module": "@jupyter-widgets/controls",
            "_view_module_version": "1.5.0",
            "_view_name": "ProgressView",
            "bar_style": "success",
            "description": "",
            "description_tooltip": null,
            "layout": "IPY_MODEL_d730c7c9a18249a2b5933eca1adb9675",
            "max": 493443,
            "min": 0,
            "orientation": "horizontal",
            "style": "IPY_MODEL_6dbf17665d4f48bbbd2562be6fab10fa",
            "value": 493443
          }
        },
        "d730c7c9a18249a2b5933eca1adb9675": {
          "model_module": "@jupyter-widgets/base",
          "model_module_version": "1.2.0",
          "model_name": "LayoutModel",
          "state": {
            "_model_module": "@jupyter-widgets/base",
            "_model_module_version": "1.2.0",
            "_model_name": "LayoutModel",
            "_view_count": null,
            "_view_module": "@jupyter-widgets/base",
            "_view_module_version": "1.2.0",
            "_view_name": "LayoutView",
            "align_content": null,
            "align_items": null,
            "align_self": null,
            "border": null,
            "bottom": null,
            "display": null,
            "flex": null,
            "flex_flow": null,
            "grid_area": null,
            "grid_auto_columns": null,
            "grid_auto_flow": null,
            "grid_auto_rows": null,
            "grid_column": null,
            "grid_gap": null,
            "grid_row": null,
            "grid_template_areas": null,
            "grid_template_columns": null,
            "grid_template_rows": null,
            "height": null,
            "justify_content": null,
            "justify_items": null,
            "left": null,
            "margin": null,
            "max_height": null,
            "max_width": null,
            "min_height": null,
            "min_width": null,
            "object_fit": null,
            "object_position": null,
            "order": null,
            "overflow": null,
            "overflow_x": null,
            "overflow_y": null,
            "padding": null,
            "right": null,
            "top": null,
            "visibility": null,
            "width": null
          }
        },
        "e0ed7fe260d1465586e18b2c60016d67": {
          "model_module": "@jupyter-widgets/controls",
          "model_module_version": "1.5.0",
          "model_name": "DescriptionStyleModel",
          "state": {
            "_model_module": "@jupyter-widgets/controls",
            "_model_module_version": "1.5.0",
            "_model_name": "DescriptionStyleModel",
            "_view_count": null,
            "_view_module": "@jupyter-widgets/base",
            "_view_module_version": "1.2.0",
            "_view_name": "StyleView",
            "description_width": ""
          }
        },
        "e176246733294872815f2d1e503d4d0d": {
          "model_module": "@jupyter-widgets/controls",
          "model_module_version": "1.5.0",
          "model_name": "DescriptionStyleModel",
          "state": {
            "_model_module": "@jupyter-widgets/controls",
            "_model_module_version": "1.5.0",
            "_model_name": "DescriptionStyleModel",
            "_view_count": null,
            "_view_module": "@jupyter-widgets/base",
            "_view_module_version": "1.2.0",
            "_view_name": "StyleView",
            "description_width": ""
          }
        },
        "e60ee0a5e876495ebf6864be15fd59bd": {
          "model_module": "@jupyter-widgets/controls",
          "model_module_version": "1.5.0",
          "model_name": "HTMLModel",
          "state": {
            "_dom_classes": [],
            "_model_module": "@jupyter-widgets/controls",
            "_model_module_version": "1.5.0",
            "_model_name": "HTMLModel",
            "_view_count": null,
            "_view_module": "@jupyter-widgets/controls",
            "_view_module_version": "1.5.0",
            "_view_name": "HTMLView",
            "description": "",
            "description_tooltip": null,
            "layout": "IPY_MODEL_087a6f538c4541b1b6da08d131ed9bfe",
            "placeholder": "​",
            "style": "IPY_MODEL_42f55497615142d698c0fb3daf1c6b98",
            "value": " 493k/493k [00:00&lt;00:00, 6.82MB/s]"
          }
        },
        "e74d68254b7c47bba1ddb1ecc2cca3bb": {
          "model_module": "@jupyter-widgets/base",
          "model_module_version": "1.2.0",
          "model_name": "LayoutModel",
          "state": {
            "_model_module": "@jupyter-widgets/base",
            "_model_module_version": "1.2.0",
            "_model_name": "LayoutModel",
            "_view_count": null,
            "_view_module": "@jupyter-widgets/base",
            "_view_module_version": "1.2.0",
            "_view_name": "LayoutView",
            "align_content": null,
            "align_items": null,
            "align_self": null,
            "border": null,
            "bottom": null,
            "display": null,
            "flex": null,
            "flex_flow": null,
            "grid_area": null,
            "grid_auto_columns": null,
            "grid_auto_flow": null,
            "grid_auto_rows": null,
            "grid_column": null,
            "grid_gap": null,
            "grid_row": null,
            "grid_template_areas": null,
            "grid_template_columns": null,
            "grid_template_rows": null,
            "height": null,
            "justify_content": null,
            "justify_items": null,
            "left": null,
            "margin": null,
            "max_height": null,
            "max_width": null,
            "min_height": null,
            "min_width": null,
            "object_fit": null,
            "object_position": null,
            "order": null,
            "overflow": null,
            "overflow_x": null,
            "overflow_y": null,
            "padding": null,
            "right": null,
            "top": null,
            "visibility": null,
            "width": null
          }
        },
        "ea97c09211f7459aa7cbf34ec68cda77": {
          "model_module": "@jupyter-widgets/controls",
          "model_module_version": "1.5.0",
          "model_name": "HBoxModel",
          "state": {
            "_dom_classes": [],
            "_model_module": "@jupyter-widgets/controls",
            "_model_module_version": "1.5.0",
            "_model_name": "HBoxModel",
            "_view_count": null,
            "_view_module": "@jupyter-widgets/controls",
            "_view_module_version": "1.5.0",
            "_view_name": "HBoxView",
            "box_style": "",
            "children": [
              "IPY_MODEL_f0d2b5b4e5da466eaac5a4650a4aa30f",
              "IPY_MODEL_9872a496067a4ee48bb803e1f5dc2cbb",
              "IPY_MODEL_c4b602bf12df4abda1a8f621d756e5ea"
            ],
            "layout": "IPY_MODEL_6442c4d6a72447af858842731a75e27f"
          }
        },
        "ecb97b51f26849028901d476781c53a0": {
          "model_module": "@jupyter-widgets/base",
          "model_module_version": "1.2.0",
          "model_name": "LayoutModel",
          "state": {
            "_model_module": "@jupyter-widgets/base",
            "_model_module_version": "1.2.0",
            "_model_name": "LayoutModel",
            "_view_count": null,
            "_view_module": "@jupyter-widgets/base",
            "_view_module_version": "1.2.0",
            "_view_name": "LayoutView",
            "align_content": null,
            "align_items": null,
            "align_self": null,
            "border": null,
            "bottom": null,
            "display": null,
            "flex": null,
            "flex_flow": null,
            "grid_area": null,
            "grid_auto_columns": null,
            "grid_auto_flow": null,
            "grid_auto_rows": null,
            "grid_column": null,
            "grid_gap": null,
            "grid_row": null,
            "grid_template_areas": null,
            "grid_template_columns": null,
            "grid_template_rows": null,
            "height": null,
            "justify_content": null,
            "justify_items": null,
            "left": null,
            "margin": null,
            "max_height": null,
            "max_width": null,
            "min_height": null,
            "min_width": null,
            "object_fit": null,
            "object_position": null,
            "order": null,
            "overflow": null,
            "overflow_x": null,
            "overflow_y": null,
            "padding": null,
            "right": null,
            "top": null,
            "visibility": null,
            "width": null
          }
        },
        "f0d2b5b4e5da466eaac5a4650a4aa30f": {
          "model_module": "@jupyter-widgets/controls",
          "model_module_version": "1.5.0",
          "model_name": "HTMLModel",
          "state": {
            "_dom_classes": [],
            "_model_module": "@jupyter-widgets/controls",
            "_model_module_version": "1.5.0",
            "_model_name": "HTMLModel",
            "_view_count": null,
            "_view_module": "@jupyter-widgets/controls",
            "_view_module_version": "1.5.0",
            "_view_name": "HTMLView",
            "description": "",
            "description_tooltip": null,
            "layout": "IPY_MODEL_ecb97b51f26849028901d476781c53a0",
            "placeholder": "​",
            "style": "IPY_MODEL_e176246733294872815f2d1e503d4d0d",
            "value": "Downloading (…)okenizer_config.json: 100%"
          }
        },
        "f81f2e7d046b4c52912b30a21249b962": {
          "model_module": "@jupyter-widgets/base",
          "model_module_version": "1.2.0",
          "model_name": "LayoutModel",
          "state": {
            "_model_module": "@jupyter-widgets/base",
            "_model_module_version": "1.2.0",
            "_model_name": "LayoutModel",
            "_view_count": null,
            "_view_module": "@jupyter-widgets/base",
            "_view_module_version": "1.2.0",
            "_view_name": "LayoutView",
            "align_content": null,
            "align_items": null,
            "align_self": null,
            "border": null,
            "bottom": null,
            "display": null,
            "flex": null,
            "flex_flow": null,
            "grid_area": null,
            "grid_auto_columns": null,
            "grid_auto_flow": null,
            "grid_auto_rows": null,
            "grid_column": null,
            "grid_gap": null,
            "grid_row": null,
            "grid_template_areas": null,
            "grid_template_columns": null,
            "grid_template_rows": null,
            "height": null,
            "justify_content": null,
            "justify_items": null,
            "left": null,
            "margin": null,
            "max_height": null,
            "max_width": null,
            "min_height": null,
            "min_width": null,
            "object_fit": null,
            "object_position": null,
            "order": null,
            "overflow": null,
            "overflow_x": null,
            "overflow_y": null,
            "padding": null,
            "right": null,
            "top": null,
            "visibility": null,
            "width": null
          }
        },
        "ff79406d43874d818b49f492fee87595": {
          "model_module": "@jupyter-widgets/base",
          "model_module_version": "1.2.0",
          "model_name": "LayoutModel",
          "state": {
            "_model_module": "@jupyter-widgets/base",
            "_model_module_version": "1.2.0",
            "_model_name": "LayoutModel",
            "_view_count": null,
            "_view_module": "@jupyter-widgets/base",
            "_view_module_version": "1.2.0",
            "_view_name": "LayoutView",
            "align_content": null,
            "align_items": null,
            "align_self": null,
            "border": null,
            "bottom": null,
            "display": null,
            "flex": null,
            "flex_flow": null,
            "grid_area": null,
            "grid_auto_columns": null,
            "grid_auto_flow": null,
            "grid_auto_rows": null,
            "grid_column": null,
            "grid_gap": null,
            "grid_row": null,
            "grid_template_areas": null,
            "grid_template_columns": null,
            "grid_template_rows": null,
            "height": null,
            "justify_content": null,
            "justify_items": null,
            "left": null,
            "margin": null,
            "max_height": null,
            "max_width": null,
            "min_height": null,
            "min_width": null,
            "object_fit": null,
            "object_position": null,
            "order": null,
            "overflow": null,
            "overflow_x": null,
            "overflow_y": null,
            "padding": null,
            "right": null,
            "top": null,
            "visibility": null,
            "width": null
          }
        }
      }
    }
  },
  "nbformat": 4,
  "nbformat_minor": 0
}
